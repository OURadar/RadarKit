{
 "cells": [
  {
   "cell_type": "markdown",
   "id": "f246809d",
   "metadata": {},
   "source": [
    "# Compute RHI Scan String\n",
    "\n",
    "```\n",
    "Input: radar (lon, lat) and heading; target (lon, lat) and height\n",
    "\n",
    "Output elevation, azimuth, range\n",
    "```"
   ]
  },
  {
   "cell_type": "code",
   "execution_count": 1,
   "id": "d75f7ec1",
   "metadata": {},
   "outputs": [],
   "source": [
    "import numpy as np\n",
    "import matplotlib.pyplot as plt"
   ]
  },
  {
   "cell_type": "code",
   "execution_count": 2,
   "id": "4811afbb",
   "metadata": {},
   "outputs": [],
   "source": [
    "def deg2rad(x):\n",
    "    return x * np.pi / 180.\n",
    "\n",
    "def rad2deg(x):\n",
    "    return x * 180. / np.pi\n",
    "\n",
    "def coord2point(coord, h=0.):\n",
    "    (lon, lat) = coord\n",
    "    r = 6371. + h\n",
    "    lon_rad = deg2rad(lon)\n",
    "    lat_rad = deg2rad(lat)\n",
    "    return np.array([\n",
    "        r * np.cos(lat_rad) * np.sin(lon_rad),\n",
    "        r * np.sin(lat_rad),\n",
    "        r * np.cos(lat_rad) * np.cos(lon_rad),\n",
    "    ], dtype=float)\n",
    "\n",
    "def rotx(x):\n",
    "    sx = np.sin(x)\n",
    "    cx = np.cos(x)\n",
    "    return np.array([[1., 0., 0.], [0., cx, -sx], [0., sx, cx]])\n",
    "\n",
    "\n",
    "def roty(x):\n",
    "    sx = np.sin(x)\n",
    "    cx = np.cos(x)\n",
    "    return np.array([[cx, 0., sx], [0., 1., 0.], [-sx, 0., cx]])\n",
    "\n",
    "def rotz(x):\n",
    "    sx = np.sin(x)\n",
    "    cx = np.cos(x)\n",
    "    return np.array([[cx, -sx, 0.], [sx, cx, 0.], [0., 0., 1.]])\n",
    "\n",
    "def norm(x):\n",
    "    return np.sqrt(np.sum(x ** 2))\n",
    "\n",
    "def distance(x1, x2):\n",
    "    p1 = coord2point(x1)\n",
    "    p2 = coord2point(x2, h=100)\n",
    "    d = norm(p1 - p2)\n",
    "    return d\n",
    "\n",
    "def showvec3(p):\n",
    "    (x, y, z) = p\n",
    "    return f'{x:.2f} {y:.2f} {z:.2f}'"
   ]
  },
  {
   "cell_type": "code",
   "execution_count": 43,
   "id": "98e4dc3b",
   "metadata": {},
   "outputs": [],
   "source": [
    "def params(target, radar, height=2.5, debug=False):\n",
    "    pt = coord2point(target, h=height)\n",
    "\n",
    "    ry = roty(deg2rad(-radar[0]))\n",
    "    rx = rotx(deg2rad(-radar[1]))\n",
    "    m = np.matmul(rx, ry)\n",
    "\n",
    "    yt = np.matmul(m, pt)\n",
    "    \n",
    "    d = yt[:2]\n",
    "    r = norm(d)\n",
    "    az = rad2deg(np.arctan2(d[0], d[1]))\n",
    "    el = rad2deg(np.arctan2(height, r))\n",
    "\n",
    "    if debug:\n",
    "        pr = coord2point(radar)\n",
    "        yr = np.matmul(m, pr)\n",
    "\n",
    "        # zenith = pr / norm(pr)\n",
    "        # east = np.cross([0, 1, 0], zenith)\n",
    "        # east = east / norm(east)\n",
    "        # north = np.cross(zenith, east)\n",
    "        # north = north / norm(north)\n",
    "\n",
    "        print('target @ ' + showvec3(yt))\n",
    "        print('radar @ ' + showvec3(yr))\n",
    "        print(f'el = {el:.2f}   az = {az:.2f}   r = {r:.2f}')\n",
    "        \n",
    "    return {\n",
    "        'el': el,\n",
    "        'az': az,\n",
    "        'r': r\n",
    "    }\n",
    "\n",
    "def vcp(params, heading=0.):\n",
    "    az = np.round(params['az'] - heading)\n",
    "    el = max(20, np.ceil(params['el'] / 2.) * 2.)\n",
    "    p = f'0,{el:.0f}'\n",
    "    s = 'p vol '\n",
    "    for a in range(-12, 14, 2):\n",
    "        ra = az + a;\n",
    "        s += f'r {ra:.0f} {p}/'\n",
    "    return s"
   ]
  },
  {
   "cell_type": "code",
   "execution_count": 44,
   "id": "3cd4b586",
   "metadata": {},
   "outputs": [
    {
     "name": "stdout",
     "output_type": "stream",
     "text": [
      "{'el': 9.029761111966844, 'az': -44.99995636674476, 'r': 15.731488036496089}\n",
      "p vol r -57 0,20/r -55 0,20/r -53 0,20/r -51 0,20/r -49 0,20/r -47 0,20/r -45 0,20/r -43 0,20/r -41 0,20/r -39 0,20/r -37 0,20/r -35 0,20/r -33 0,20/\n"
     ]
    }
   ],
   "source": [
    "radar = (-90, 0)\n",
    "# x2 = (-91, 36)\n",
    "# x2 = (-90, -1)\n",
    "target = (-90.1, 0.1)\n",
    "\n",
    "p = params(target, radar)\n",
    "# v = vcp(p, heading=10.)\n",
    "v = vcp(p)\n",
    "\n",
    "print(p)\n",
    "print(v)"
   ]
  },
  {
   "cell_type": "markdown",
   "id": "7c3a400f",
   "metadata": {},
   "source": [
    "# Lat/Lon on Earth"
   ]
  },
  {
   "cell_type": "code",
   "execution_count": null,
   "id": "73aa89cf",
   "metadata": {},
   "outputs": [],
   "source": [
    "points = []\n",
    "for lat in range(0, 80, 10):\n",
    "    for lon in range(-180, 180, 10):\n",
    "        x = coord2point((lon, lat))\n",
    "        points.append(x)\n",
    "pp = np.array(points)"
   ]
  },
  {
   "cell_type": "code",
   "execution_count": null,
   "id": "b3ab59fa",
   "metadata": {},
   "outputs": [],
   "source": [
    "fig = plt.figure(figsize=(5, 5), dpi=144)\n",
    "ax = fig.add_subplot(111, projection='3d')\n",
    "ax.scatter(pp[:, 0], pp[:, 1], pp[:, 2], marker='.')\n",
    "ax.set_xlabel('x')\n",
    "ax.set_ylabel('y')\n",
    "ax.set_zlabel('z')\n",
    "ax.grid(False)"
   ]
  },
  {
   "cell_type": "code",
   "execution_count": null,
   "id": "9619592f",
   "metadata": {},
   "outputs": [],
   "source": [
    "plt.close()"
   ]
  },
  {
   "cell_type": "code",
   "execution_count": null,
   "id": "f5228f70",
   "metadata": {},
   "outputs": [],
   "source": []
  }
 ],
 "metadata": {
  "kernelspec": {
   "display_name": "Python 3.8.11 64-bit ('3.8.11')",
   "language": "python",
   "name": "python3811jvsc74a57bd00da28d54a6db294d483e03b204799a530a64da716cc762e5b1442f9336593b7b"
  },
  "language_info": {
   "codemirror_mode": {
    "name": "ipython",
    "version": 3
   },
   "file_extension": ".py",
   "mimetype": "text/x-python",
   "name": "python",
   "nbconvert_exporter": "python",
   "pygments_lexer": "ipython3",
   "version": "3.8.11"
  }
 },
 "nbformat": 4,
 "nbformat_minor": 5
}
