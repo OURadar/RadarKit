{
 "cells": [
  {
   "cell_type": "markdown",
   "id": "6caabcf3",
   "metadata": {},
   "source": [
    "# Playground"
   ]
  },
  {
   "cell_type": "code",
   "execution_count": null,
   "id": "33291413",
   "metadata": {},
   "outputs": [],
   "source": [
    "%matplotlib inline\n",
    "\n",
    "import glob\n",
    "\n",
    "import matplotlib.pyplot as plt\n",
    "import numpy as np\n",
    "\n",
    "import radarkit\n",
    "\n",
    "from style import context_properties, zmap, vmap"
   ]
  },
  {
   "cell_type": "code",
   "execution_count": null,
   "id": "9c7e45fa",
   "metadata": {},
   "outputs": [],
   "source": [
    "files = sorted(glob.glob('data/*.rkr'))\n",
    "file = files[-1]\n",
    "\n",
    "print(f'Selected file {file}')"
   ]
  },
  {
   "cell_type": "code",
   "execution_count": null,
   "id": "a8ed8d16",
   "metadata": {},
   "outputs": [],
   "source": [
    "rkid = radarkit.open(file)\n",
    "\n",
    "config = rkid.get_current_config()\n",
    "config.SQIThreshold = 0.01\n",
    "config.SNRThreshold = 0.0\n",
    "\n",
    "# radarkit.RKMomentEngineSetMomentProcessorToSpectral(rkid.momentMachine)"
   ]
  },
  {
   "cell_type": "code",
   "execution_count": null,
   "id": "b7484db6",
   "metadata": {},
   "outputs": [],
   "source": [
    "out = rkid.read()"
   ]
  },
  {
   "cell_type": "markdown",
   "id": "2efb6b55",
   "metadata": {},
   "source": [
    "# A-Scope\n",
    "\n",
    "- Compute the average power of the last `count` raw pulses\n",
    "- Compute the average power of the last `count` compressed pulses\n",
    "- Add a `tiny` value to avoid log of 0"
   ]
  },
  {
   "cell_type": "code",
   "execution_count": null,
   "id": "f1f6e34a",
   "metadata": {},
   "outputs": [],
   "source": [
    "tiny = 1.0e-3\n",
    "\n",
    "riq = out['riq']\n",
    "ciq = out['ciq']\n",
    "\n",
    "count = 80\n",
    "r = np.mean(np.abs(riq[-count:, 0, :]) ** 2, axis=0)\n",
    "c = np.mean(np.abs(ciq[-count:, 0, :]) ** 2, axis=0)\n",
    "\n",
    "xr = np.arange(riq.shape[2])\n",
    "xc = np.arange(ciq.shape[2]) * rkid.desc.pulseToRayRatio\n",
    "xb = np.array([1, 1]) * xc[-1]\n",
    "\n",
    "yr = 10 * np.log10(r + tiny)\n",
    "yc = 10 * np.log10(c + tiny)\n",
    "\n",
    "with plt.rc_context(context_properties):\n",
    "    plt.figure(figsize=(8, 3), dpi=200)\n",
    "    plt.plot(xr, yr, label='raw')\n",
    "    plt.plot(xc, yc, label='compressed')\n",
    "    plt.plot(xb, [0, 100], ':')\n",
    "    plt.text(xb[0] + 50, 65, 'End Blind Zone', bbox={\n",
    "        'boxstyle': 'round, pad=0.5',\n",
    "        'facecolor': (0.25, 0.25, 0.35, 0.9),\n",
    "        'alpha': 0.8\n",
    "    })\n",
    "    plt.ylim(0.5, 90)\n",
    "    plt.grid()\n",
    "    plt.legend()\n",
    "    plt.xlabel('Range Gates')\n",
    "    plt.ylabel('Power (dB-ADU)')\n",
    "    plt.title('A-Scope', fontweight='bold')"
   ]
  },
  {
   "cell_type": "markdown",
   "id": "2c188ad5",
   "metadata": {},
   "source": [
    "# B-Scope\n",
    "\n",
    "- Select a `count` for number of pulses to compute a radial\n",
    "- Extract up to `rayCount * count` pulses\n",
    "- Reindex the array to (gateCount, rayCount, count)\n",
    "- Compute power, average over the last axis count"
   ]
  },
  {
   "cell_type": "code",
   "execution_count": null,
   "id": "1ad6eca0",
   "metadata": {},
   "outputs": [],
   "source": [
    "count = 80\n",
    "rayCount = ciq.shape[0] // count\n",
    "gateCount = ciq.shape[2]\n",
    "n = rayCount * count\n",
    "x = np.reshape(ciq[:n, 0, :], (rayCount, count, -1))\n",
    "x = np.transpose(x, (2, 0, 1))\n",
    "\n",
    "r0 = np.mean(np.abs(x) ** 2, axis=2)\n",
    "r1 = np.mean(x[:, :, 1:] * np.conj(x[:, :, :-1]), axis=2)\n",
    "r2 = np.mean(x[:, :, 2:] * np.conj(x[:, :, :-2]), axis=2)"
   ]
  },
  {
   "cell_type": "code",
   "execution_count": null,
   "id": "aa459559",
   "metadata": {},
   "outputs": [],
   "source": [
    "with plt.rc_context(context_properties):\n",
    "    plt.figure(figsize=(8, 4), dpi=200)\n",
    "    plt.pcolormesh(10 * np.log10(r0 + tiny), cmap='viridis', vmin=8, vmax=42)\n",
    "    plt.xlabel('Ray Index')\n",
    "    plt.ylabel('Gate Index')\n",
    "    plt.title('B-Scope', fontweight='bold')\n",
    "    cb = plt.colorbar()\n",
    "    cb.set_label('dB-ADU')"
   ]
  },
  {
   "cell_type": "code",
   "execution_count": null,
   "id": "8e4cc194",
   "metadata": {},
   "outputs": [],
   "source": [
    "with plt.rc_context(context_properties):\n",
    "    plt.figure(figsize=(8, 4), dpi=200)\n",
    "    # plt.pcolormesh(np.abs(r1) / (np.abs(r0) + tiny), cmap='viridis')\n",
    "    # plt.pcolormesh(10 * np.log10(np.abs(r1) + tiny), cmap='viridis', vmin=8, vmax=42)\n",
    "    plt.pcolormesh(np.angle(r1), cmap=vmap, vmin=-np.pi, vmax=np.pi)\n",
    "    # plt.pcolormesh(np.log(np.abs(r1) / np.abs(r2) + tiny), cmap='tab20c')\n",
    "    plt.xlabel('Ray Index')\n",
    "    plt.ylabel('Gate Index')\n",
    "    plt.title('B-Scope', fontweight='bold')\n",
    "    cb = plt.colorbar()\n",
    "    cb.set_label('dB-ADU')"
   ]
  },
  {
   "cell_type": "markdown",
   "id": "c846da02",
   "metadata": {},
   "source": [
    "## Check the Next Pulse Status\n",
    "\n",
    "For debuggning purpose, the next pulse header status should be 0"
   ]
  },
  {
   "cell_type": "code",
   "execution_count": null,
   "id": "597b5bdc",
   "metadata": {},
   "outputs": [],
   "source": [
    "k = rkid.pulseMachine.contents.pulseIndex.contents.value\n",
    "pulse = radarkit.RKGetPulseFromBuffer(rkid.pulseMachine.contents.pulseBuffer, k)\n",
    "print(f'pulses[{k}].header.s = {pulse.contents.header.s}')"
   ]
  },
  {
   "cell_type": "markdown",
   "id": "eef6af70",
   "metadata": {},
   "source": [
    "## Retrieve Radar Products"
   ]
  },
  {
   "cell_type": "code",
   "execution_count": null,
   "id": "9600ee3e",
   "metadata": {},
   "outputs": [],
   "source": [
    "prods = rkid.get_moment()"
   ]
  },
  {
   "cell_type": "code",
   "execution_count": null,
   "id": "db41a434",
   "metadata": {},
   "outputs": [],
   "source": [
    "z = np.transpose(prods['Z'])\n",
    "\n",
    "with plt.rc_context(context_properties):\n",
    "    plt.figure(figsize=(8, 4), dpi=200)\n",
    "    # plt.pcolormesh(z, cmap='viridis', vmin=2, vmax=42)\n",
    "    plt.pcolormesh(z, cmap=zmap, vmin=-32, vmax=96)\n",
    "    plt.xlabel('Ray Index')\n",
    "    plt.ylabel('Gate Index')\n",
    "    plt.title('B-Scope', fontweight='bold')\n",
    "    cb = plt.colorbar()\n",
    "    cb.set_label('dBZ')"
   ]
  },
  {
   "cell_type": "code",
   "execution_count": null,
   "id": "01b174aa",
   "metadata": {},
   "outputs": [],
   "source": [
    "rkid.free()\n",
    "plt.close()"
   ]
  },
  {
   "cell_type": "code",
   "execution_count": null,
   "metadata": {},
   "outputs": [],
   "source": []
  }
 ],
 "metadata": {
  "kernelspec": {
   "display_name": "Python 3 (ipykernel)",
   "language": "python",
   "name": "python3"
  },
  "language_info": {
   "codemirror_mode": {
    "name": "ipython",
    "version": 3
   },
   "file_extension": ".py",
   "mimetype": "text/x-python",
   "name": "python",
   "nbconvert_exporter": "python",
   "pygments_lexer": "ipython3",
   "version": "3.11.4"
  }
 },
 "nbformat": 4,
 "nbformat_minor": 5
}
