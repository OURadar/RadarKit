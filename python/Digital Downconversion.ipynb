{
 "cells": [
  {
   "cell_type": "markdown",
   "metadata": {},
   "source": [
    "# Digital Downconversion\n",
    "\n",
    "To obtain a single side band time-series of a real signal, the Hilbert transform can be used. It works as follows. First, the signal is converted into frequency domain representation using discrete Fourier transform. Then, the second half of the spectrum (&pi; to 2&pi;) is set to zero, which essentially remove the double-sided nature of real signal. Finally, the time-domain representation is obtained by performing the inverse Fourier transform."
   ]
  },
  {
   "cell_type": "code",
   "execution_count": null,
   "metadata": {
    "collapsed": true
   },
   "outputs": [],
   "source": [
    "%matplotlib inline\n",
    "import matplotlib\n",
    "import numpy as np\n",
    "import blib"
   ]
  },
  {
   "cell_type": "code",
   "execution_count": null,
   "metadata": {
    "collapsed": true
   },
   "outputs": [],
   "source": [
    "def hilbert(x):\n",
    "    nfft = int(np.power(2, np.ceil(np.log2(len(x)))))\n",
    "    xf = np.fft.fft(x, nfft)\n",
    "    H = int(nfft / 2)\n",
    "    # Numpy's FFT module has a default normalization of 1 / N already\n",
    "    xf[1:H] *= 2.0\n",
    "    xf[H:nfft] = 0\n",
    "    y = np.fft.ifft(xf, nfft)\n",
    "    return y[0:len(x)]"
   ]
  },
  {
   "cell_type": "code",
   "execution_count": null,
   "metadata": {
    "collapsed": true
   },
   "outputs": [],
   "source": [
    "def downConvert(x, omega):\n",
    "    s = np.exp(-1j * omega * np.pi * np.arange(len(x)))\n",
    "    return hilbert(x) * s"
   ]
  },
  {
   "cell_type": "code",
   "execution_count": null,
   "metadata": {},
   "outputs": [],
   "source": [
    "n = np.arange(400)\n",
    "x = np.sin(0.02 * 2.0 * np.pi * n + 0.1)\n",
    "x[-200::] = 0\n",
    "np.sqrt(np.sum(np.abs(x) ** 2))"
   ]
  },
  {
   "cell_type": "code",
   "execution_count": null,
   "metadata": {},
   "outputs": [],
   "source": [
    "xc = hilbert(x)\n",
    "np.sqrt(np.sum(np.abs(xc[0:200]) ** 2))"
   ]
  },
  {
   "cell_type": "code",
   "execution_count": null,
   "metadata": {},
   "outputs": [],
   "source": [
    "xc2 = hilbert(xc)\n",
    "np.sqrt(np.sum(np.abs(xc2[0:200]) ** 2))"
   ]
  },
  {
   "cell_type": "code",
   "execution_count": null,
   "metadata": {},
   "outputs": [],
   "source": [
    "d = downConvert(x, 0.015)\n",
    "np.sqrt(np.sum(np.abs(d) ** 2))"
   ]
  },
  {
   "cell_type": "code",
   "execution_count": null,
   "metadata": {
    "scrolled": false
   },
   "outputs": [],
   "source": [
    "fig = matplotlib.pyplot.figure(figsize=(8, 5), dpi=100)\n",
    "\n",
    "ax = matplotlib.pyplot.subplot(311)\n",
    "matplotlib.pyplot.plot(n, x.real, label='I')\n",
    "matplotlib.pyplot.plot(n, x.imag, label='Q')\n",
    "matplotlib.pyplot.plot(n, np.abs(x), label='A')\n",
    "matplotlib.pyplot.grid()\n",
    "matplotlib.pyplot.legend(ncol=3)\n",
    "matplotlib.pyplot.ylabel('Amplitude')\n",
    "ax.tick_params(labelbottom=False)\n",
    "\n",
    "ax = matplotlib.pyplot.subplot(312)\n",
    "matplotlib.pyplot.plot(n, xc.real)\n",
    "matplotlib.pyplot.plot(n, xc.imag)\n",
    "matplotlib.pyplot.plot(n, np.abs(xc))\n",
    "matplotlib.pyplot.grid()\n",
    "matplotlib.pyplot.ylabel('Amplitude')\n",
    "ax.tick_params(labelbottom=False)\n",
    "\n",
    "matplotlib.pyplot.subplot(313)\n",
    "matplotlib.pyplot.plot(n, xc2.real)\n",
    "matplotlib.pyplot.plot(n, xc2.imag)\n",
    "matplotlib.pyplot.plot(n, np.abs(xc2))\n",
    "\n",
    "# matplotlib.pyplot.plot(n, d.real, label='I')\n",
    "# matplotlib.pyplot.plot(n, d.imag, label='Q')\n",
    "# matplotlib.pyplot.plot(n, np.sqrt(np.abs(d)), label='A')\n",
    "matplotlib.pyplot.grid()\n",
    "matplotlib.pyplot.xlabel('Sample Index')\n",
    "matplotlib.pyplot.ylabel('Amplitude')\n"
   ]
  },
  {
   "cell_type": "code",
   "execution_count": null,
   "metadata": {
    "collapsed": true
   },
   "outputs": [],
   "source": []
  }
 ],
 "metadata": {
  "kernelspec": {
   "display_name": "Python 3",
   "language": "python",
   "name": "python3"
  },
  "language_info": {
   "codemirror_mode": {
    "name": "ipython",
    "version": 3
   },
   "file_extension": ".py",
   "mimetype": "text/x-python",
   "name": "python",
   "nbconvert_exporter": "python",
   "pygments_lexer": "ipython3",
   "version": "3.6.4"
  }
 },
 "nbformat": 4,
 "nbformat_minor": 2
}
