{
 "cells": [
  {
   "cell_type": "markdown",
   "id": "f793cb44",
   "metadata": {},
   "source": [
    "# Converting Float to 16-bit Representation"
   ]
  },
  {
   "cell_type": "code",
   "execution_count": null,
   "id": "552b0c61",
   "metadata": {},
   "outputs": [],
   "source": [
    "%matplotlib inline\n",
    "\n",
    "import matplotlib.pyplot as plt\n",
    "import numpy as np"
   ]
  },
  {
   "cell_type": "code",
   "execution_count": null,
   "id": "c72cc3d2",
   "metadata": {},
   "outputs": [],
   "source": [
    "a = 5000;\n",
    "w = 0.1;\n",
    "n = np.arange(0, 10);\n",
    "x = a * np.sin(w * n, dtype=np.single) + 1j * a * np.cos(w * n, dtype=np.single)\n",
    "\n",
    "r0 = x * np.conj(x)\n",
    "\n",
    "r0a = 1000.0 * np.log2(r0)\n",
    "r0b = np.round(r0a)\n",
    "r0c = np.power(2.0, 1.0 / 1000.0 * r0b)"
   ]
  },
  {
   "cell_type": "code",
   "execution_count": null,
   "id": "f7d7140c",
   "metadata": {},
   "outputs": [],
   "source": [
    "display(r0)\n",
    "display(r0a)\n",
    "display(r0b)\n",
    "display(r0c)"
   ]
  },
  {
   "cell_type": "markdown",
   "id": "746dc083",
   "metadata": {},
   "source": [
    "# Plot"
   ]
  },
  {
   "cell_type": "code",
   "execution_count": null,
   "id": "84afd9e3",
   "metadata": {},
   "outputs": [],
   "source": [
    "fig = plt.figure(figsize=(9, 5), dpi=100)\n",
    "\n",
    "ax = plt.subplot(211)\n",
    "plt.plot(n, x.real, label='I')\n",
    "plt.plot(n, x.imag, label='Q')\n",
    "plt.plot(n, np.abs(x), label='A')\n",
    "plt.grid()\n",
    "plt.legend(ncol=3)\n",
    "plt.ylabel('Amplitude')\n",
    "plt.title('Original')\n",
    "ax.tick_params(labelbottom=False)\n",
    "\n",
    "ax = plt.subplot(211)\n",
    "plt.plot(n, r0.real, label='I')\n",
    "plt.plot(n, r0.imag, label='Q')\n",
    "plt.plot(n, np.abs(r0), label='A')\n",
    "plt.grid()\n",
    "plt.legend(ncol=3)\n",
    "plt.ylabel('Amplitude')\n",
    "plt.title('Original')\n",
    "ax.tick_params(labelbottom=False)"
   ]
  },
  {
   "cell_type": "code",
   "execution_count": null,
   "metadata": {},
   "outputs": [],
   "source": []
  }
 ],
 "metadata": {
  "kernelspec": {
   "display_name": "Python 3",
   "language": "python",
   "name": "python3"
  },
  "language_info": {
   "codemirror_mode": {
    "name": "ipython",
    "version": 3
   },
   "file_extension": ".py",
   "mimetype": "text/x-python",
   "name": "python",
   "nbconvert_exporter": "python",
   "pygments_lexer": "ipython3",
   "version": "3.11.4"
  }
 },
 "nbformat": 4,
 "nbformat_minor": 5
}
