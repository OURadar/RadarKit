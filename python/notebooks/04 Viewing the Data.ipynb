{
 "cells": [
  {
   "cell_type": "markdown",
   "metadata": {},
   "source": [
    "# Viewing the Data"
   ]
  },
  {
   "cell_type": "code",
   "execution_count": null,
   "metadata": {},
   "outputs": [],
   "source": [
    "%matplotlib inline\n",
    "\n",
    "import glob\n",
    "import matplotlib.pyplot as plt\n",
    "plt.ioff()\n",
    "\n",
    "import blib\n",
    "blib.useTheme(\"dark\")\n",
    "\n",
    "import src.radarkit as radarkit\n",
    "import src.radarkit.chart as chart\n",
    "\n",
    "pp = chart.ChartRHI()"
   ]
  },
  {
   "cell_type": "code",
   "execution_count": null,
   "metadata": {},
   "outputs": [],
   "source": [
    "files = sorted(glob.glob(\"data/moment/20231004/*.xz\"))\n",
    "\n",
    "assert len(files) > 0, \"No files found\"\n",
    "\n",
    "file = files[0]\n",
    "\n",
    "print(f\"Selected file {file}\")"
   ]
  },
  {
   "cell_type": "code",
   "execution_count": null,
   "metadata": {},
   "outputs": [],
   "source": [
    "sweep = radarkit.sweep.Sweep(file)\n",
    "pp.set_data(sweep)"
   ]
  },
  {
   "cell_type": "code",
   "execution_count": null,
   "metadata": {},
   "outputs": [],
   "source": [
    "pp.fig"
   ]
  },
  {
   "cell_type": "code",
   "execution_count": null,
   "metadata": {},
   "outputs": [],
   "source": [
    "import src.radarkit.map as map\n",
    "\n",
    "import importlib"
   ]
  },
  {
   "cell_type": "code",
   "execution_count": null,
   "metadata": {},
   "outputs": [],
   "source": [
    "map = importlib.reload(map)"
   ]
  },
  {
   "cell_type": "code",
   "execution_count": null,
   "metadata": {},
   "outputs": [],
   "source": [
    "poly = map.get('county')"
   ]
  },
  {
   "cell_type": "code",
   "execution_count": null,
   "metadata": {},
   "outputs": [],
   "source": [
    "lines = []\n",
    "w = poly['transform']['scale']\n",
    "b = poly['transform']['translate']\n",
    "for arc in poly['arcs']:\n",
    "    lat = w[1] * arc[0][1] + b[1]\n",
    "    if lat < -89:\n",
    "        continue\n",
    "    line = []\n",
    "    point = [0, 0]\n",
    "    for p in arc:\n",
    "        point[0] += p[0]\n",
    "        point[1] += p[1]\n",
    "        lon = w[0] * point[0] + b[0]\n",
    "        lat = w[1] * point[1] + b[1]\n",
    "        line.append([lon, lat])\n",
    "    lines.append(line)"
   ]
  },
  {
   "cell_type": "code",
   "execution_count": null,
   "metadata": {},
   "outputs": [],
   "source": [
    "import matplotlib\n",
    "\n",
    "import numpy as np"
   ]
  },
  {
   "cell_type": "code",
   "execution_count": null,
   "metadata": {},
   "outputs": [],
   "source": [
    "r_earth = 6378.0\n",
    "origin = (-97.44, 35.22)\n",
    "view_range = 120\n",
    "view_range_deg = np.degrees(view_range / r_earth)\n",
    "lat_min, lat_max = origin[1] - view_range_deg, origin[1] + view_range_deg\n",
    "lon_min, lon_max = origin[0] - view_range_deg, origin[0] + view_range_deg"
   ]
  },
  {
   "cell_type": "code",
   "execution_count": null,
   "metadata": {},
   "outputs": [],
   "source": [
    "lat_min, lat_max, lon_min, lon_max"
   ]
  },
  {
   "cell_type": "code",
   "execution_count": null,
   "metadata": {},
   "outputs": [],
   "source": [
    "# View projection matrix\n",
    "\n",
    "rot = map.makeRotationForCoord(*origin)\n",
    "\n",
    "def project(coords):\n",
    "    a, b = coords[:, 0], coords[:, 1]\n",
    "    m = r_earth * np.cos(a)\n",
    "    y = r_earth * np.sin(a)\n",
    "    z = m * np.cos(b)\n",
    "    x = m * np.sin(b)\n",
    "    p = np.array((x, y, z)).transpose()\n",
    "    return np.matmul(p, rot)\n",
    "\n",
    "def project_v2(coords):\n",
    "    m = r_earth * np.cos(coords[:, 0])\n",
    "    y = r_earth * np.sin(coords[:, 0])\n",
    "    z = m * np.cos(coords[:, 1])\n",
    "    x = m * np.sin(coords[:, 1])\n",
    "    p = np.array((x, y, z)).transpose()\n",
    "    return np.matmul(p, rot)\n"
   ]
  },
  {
   "cell_type": "code",
   "execution_count": null,
   "metadata": {},
   "outputs": [],
   "source": [
    "county_lines = []\n",
    "for points in lines:\n",
    "    points = np.array(points)\n",
    "    outside = np.logical_or(np.logical_or(points[:, 0] < lon_min, points[:, 0] > lon_max),\n",
    "                            np.logical_or(points[:, 1] < lat_min, points[:, 1] > lat_max))\n",
    "    if np.all(outside):\n",
    "        continue\n",
    "    county_lines.append(points)\n",
    "\n",
    "print(len(county_lines))"
   ]
  },
  {
   "cell_type": "code",
   "execution_count": null,
   "metadata": {},
   "outputs": [],
   "source": [
    "line = county_lines[37]\n",
    "len(line)"
   ]
  },
  {
   "cell_type": "code",
   "execution_count": null,
   "metadata": {},
   "outputs": [],
   "source": [
    "%timeit project(line)"
   ]
  },
  {
   "cell_type": "code",
   "execution_count": null,
   "metadata": {},
   "outputs": [],
   "source": []
  },
  {
   "cell_type": "code",
   "execution_count": null,
   "metadata": {},
   "outputs": [],
   "source": [
    "fig = plt.figure(figsize=(9, 4))\n",
    "plt.plot([len(line) for line in county_lines])\n",
    "fig"
   ]
  },
  {
   "cell_type": "code",
   "execution_count": null,
   "metadata": {},
   "outputs": [],
   "source": [
    "xlim = (-160, 160)\n",
    "ylim = (-90, 90)\n",
    "\n",
    "fig = plt.figure()\n",
    "ax = fig.add_axes([0, 0, 1, 1])\n",
    "for line in county_lines:\n",
    "    path = project(np.radians(line))\n",
    "    ax.add_line(matplotlib.lines.Line2D(path[:, 0], path[:, 1]))\n",
    "ax.axis('equal')\n",
    "ax.set(xlim=xlim, ylim=ylim)\n"
   ]
  },
  {
   "cell_type": "code",
   "execution_count": null,
   "metadata": {},
   "outputs": [],
   "source": [
    "fig"
   ]
  },
  {
   "cell_type": "code",
   "execution_count": null,
   "metadata": {},
   "outputs": [],
   "source": [
    "def subset_paths():\n",
    "    x_min, x_max = -160, 160\n",
    "    y_min, y_max = -90, 90\n",
    "    county_lines = []\n",
    "    for points in lines:\n",
    "        points = np.array(points)\n",
    "        points = project(np.radians(points))\n",
    "        outside = np.logical_or(np.logical_or(points[:, 0] < x_min, points[:, 0] > x_max),\n",
    "                                np.logical_or(points[:, 1] < y_min, points[:, 1] > y_max))\n",
    "        if np.all(outside):\n",
    "            continue\n",
    "        county_lines.append(points)\n",
    "    return county_lines"
   ]
  },
  {
   "cell_type": "code",
   "execution_count": null,
   "metadata": {},
   "outputs": [],
   "source": [
    "county_lines = subset_paths()\n",
    "\n",
    "print(len(county_lines))"
   ]
  },
  {
   "cell_type": "code",
   "execution_count": null,
   "metadata": {},
   "outputs": [],
   "source": [
    "fig = plt.figure()\n",
    "ax = fig.add_axes([0, 0, 1, 1])\n",
    "for line in county_lines:\n",
    "    ax.add_line(matplotlib.lines.Line2D(line[:, 0], line[:, 1]))\n",
    "ax.axis('equal')\n",
    "# ax.set(xlim=(x_min, x_max), ylim=(y_min, y_max))\n"
   ]
  },
  {
   "cell_type": "code",
   "execution_count": null,
   "metadata": {},
   "outputs": [],
   "source": [
    "fig"
   ]
  },
  {
   "cell_type": "code",
   "execution_count": null,
   "metadata": {},
   "outputs": [],
   "source": [
    "plt.close()"
   ]
  },
  {
   "cell_type": "code",
   "execution_count": null,
   "metadata": {},
   "outputs": [],
   "source": [
    "poly['bbox']"
   ]
  },
  {
   "cell_type": "code",
   "execution_count": null,
   "metadata": {},
   "outputs": [],
   "source": []
  },
  {
   "cell_type": "code",
   "execution_count": null,
   "metadata": {},
   "outputs": [],
   "source": []
  }
 ],
 "metadata": {
  "kernelspec": {
   "display_name": "Python 3",
   "language": "python",
   "name": "python3"
  },
  "language_info": {
   "codemirror_mode": {
    "name": "ipython",
    "version": 3
   },
   "file_extension": ".py",
   "mimetype": "text/x-python",
   "name": "python",
   "nbconvert_exporter": "python",
   "pygments_lexer": "ipython3",
   "version": "3.11.4"
  }
 },
 "nbformat": 4,
 "nbformat_minor": 2
}
