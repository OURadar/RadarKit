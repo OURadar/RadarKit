{
 "cells": [
  {
   "cell_type": "markdown",
   "id": "f246809d",
   "metadata": {},
   "source": [
    "# Compute RHI Scan Parameters\n",
    "\n",
    "Tryout to see if we can compute the scan parameters for setting up a set of RHI scans\n",
    "\n",
    "```\n",
    "Input:\n",
    "    radar (lon, lat)\n",
    "    target (lon, lat)\n",
    "    height\n",
    "    heading\n",
    "\n",
    "Output:\n",
    "    elevation (minimum)\n",
    "    azimuth\n",
    "    range\n",
    "```"
   ]
  },
  {
   "cell_type": "code",
   "execution_count": null,
   "id": "d75f7ec1",
   "metadata": {},
   "outputs": [],
   "source": [
    "import numpy as np\n",
    "import matplotlib.pyplot as plt"
   ]
  },
  {
   "cell_type": "code",
   "execution_count": null,
   "id": "4811afbb",
   "metadata": {},
   "outputs": [],
   "source": [
    "def deg2rad(x):\n",
    "    return x * np.pi / 180.\n",
    "\n",
    "def rad2deg(x):\n",
    "    return x * 180. / np.pi\n",
    "\n",
    "def coord2point(coord, h=0.):\n",
    "    (lon, lat) = coord\n",
    "    r = 6371. + h\n",
    "    lon_rad = deg2rad(lon)\n",
    "    lat_rad = deg2rad(lat)\n",
    "    return np.array([\n",
    "        r * np.cos(lat_rad) * np.sin(lon_rad),\n",
    "        r * np.sin(lat_rad),\n",
    "        r * np.cos(lat_rad) * np.cos(lon_rad),\n",
    "    ], dtype=float)\n",
    "\n",
    "def rotx(x):\n",
    "    sx = np.sin(x)\n",
    "    cx = np.cos(x)\n",
    "    return np.array([[1., 0., 0.], [0., cx, -sx], [0., sx, cx]])\n",
    "\n",
    "\n",
    "def roty(x):\n",
    "    sx = np.sin(x)\n",
    "    cx = np.cos(x)\n",
    "    return np.array([[cx, 0., sx], [0., 1., 0.], [-sx, 0., cx]])\n",
    "\n",
    "def rotz(x):\n",
    "    sx = np.sin(x)\n",
    "    cx = np.cos(x)\n",
    "    return np.array([[cx, -sx, 0.], [sx, cx, 0.], [0., 0., 1.]])\n",
    "\n",
    "def norm(x):\n",
    "    return np.sqrt(np.sum(x ** 2))\n",
    "\n",
    "def showvec3(p):\n",
    "    (x, y, z) = p\n",
    "    return f'{x:.2f} {y:.2f} {z:.2f}'\n",
    "\n",
    "def params(target, radar, height=2.5, debug=False):\n",
    "    pt = coord2point(target, h=height)\n",
    "\n",
    "    ry = roty(deg2rad(-radar[0]))\n",
    "    rx = rotx(deg2rad(radar[1]))\n",
    "    m = np.matmul(rx, ry)\n",
    "\n",
    "    yt = np.matmul(m, pt)\n",
    "\n",
    "    d = yt[:2]\n",
    "    r = norm(d)\n",
    "    az = rad2deg(np.arctan2(d[0], d[1]))\n",
    "    el = rad2deg(np.arctan2(height, r))\n",
    "\n",
    "    if debug:\n",
    "        pr = coord2point(radar)\n",
    "        yr = np.matmul(m, pr)\n",
    "\n",
    "        # zenith = pr / norm(pr)\n",
    "        # east = np.cross([0, 1, 0], zenith)\n",
    "        # east = east / norm(east)\n",
    "        # north = np.cross(zenith, east)\n",
    "        # north = north / norm(north)\n",
    "\n",
    "        print('target @ ' + showvec3(yt))\n",
    "        print('radar @ ' + showvec3(yr))\n",
    "        print(f'el = {el:.2f}   az = {az:.2f}   r = {r:.2f}')\n",
    "\n",
    "    return {\n",
    "        'el': el,\n",
    "        'az': az,\n",
    "        'r': r\n",
    "    }"
   ]
  },
  {
   "cell_type": "code",
   "execution_count": null,
   "id": "3cd4b586",
   "metadata": {},
   "outputs": [],
   "source": [
    "radar = (-90, 0)\n",
    "target = (-90.1, 0.1)\n",
    "# target = (-91, 36)\n",
    "# target = (-90, -1)\n",
    "\n",
    "# p = params(target, radar, debug=True)\n",
    "p = params(target, radar)\n",
    "\n",
    "print(p)"
   ]
  },
  {
   "cell_type": "markdown",
   "id": "7c3a400f",
   "metadata": {},
   "source": [
    "# Coordinate to 3D Points of the Earth\n",
    "\n",
    "A convention similar to the RadarHub is used here where the screen is used as the display canvas where\n",
    " - x-axis to the right;\n",
    " - y-axis to the top; and\n",
    " - z-axis to the viewer"
   ]
  },
  {
   "cell_type": "code",
   "execution_count": null,
   "id": "73aa89cf",
   "metadata": {},
   "outputs": [],
   "source": [
    "points = []\n",
    "for lat in range(-80, 80, 10):\n",
    "    for lon in range(-180, 180, 10):\n",
    "        x = coord2point((lon, lat))\n",
    "        points.append(x)\n",
    "pp = np.array(points)"
   ]
  },
  {
   "cell_type": "code",
   "execution_count": null,
   "id": "b3ab59fa",
   "metadata": {},
   "outputs": [],
   "source": [
    "fig = plt.figure(figsize=(6.9, 6.9), dpi=96)\n",
    "ax = fig.add_subplot(111, projection='3d')\n",
    "ax.scatter(pp[:, 0], pp[:, 1], pp[:, 2], marker='.')\n",
    "ax.set_xlabel('x')\n",
    "ax.set_ylabel('y')\n",
    "ax.set_zlabel('z')\n",
    "ax.grid(False)\n",
    "ax.set_box_aspect([1, 1, 1])"
   ]
  },
  {
   "cell_type": "code",
   "execution_count": null,
   "id": "9619592f",
   "metadata": {},
   "outputs": [],
   "source": [
    "plt.close()"
   ]
  },
  {
   "cell_type": "code",
   "execution_count": null,
   "id": "f5228f70",
   "metadata": {},
   "outputs": [],
   "source": []
  }
 ],
 "metadata": {
  "kernelspec": {
   "display_name": "Python 3",
   "language": "python",
   "name": "python3"
  },
  "language_info": {
   "codemirror_mode": {
    "name": "ipython",
    "version": 3
   },
   "file_extension": ".py",
   "mimetype": "text/x-python",
   "name": "python",
   "nbconvert_exporter": "python",
   "pygments_lexer": "ipython3",
   "version": "3.11.4"
  }
 },
 "nbformat": 4,
 "nbformat_minor": 5
}
