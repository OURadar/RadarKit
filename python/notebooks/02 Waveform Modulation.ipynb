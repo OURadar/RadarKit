{
 "cells": [
  {
   "cell_type": "code",
   "execution_count": null,
   "metadata": {},
   "outputs": [],
   "source": [
    "%matplotlib inline\n",
    "\n",
    "import matplotlib.pyplot as plt\n",
    "\n",
    "import blib\n",
    "# import radarkit\n",
    "import src.radarkit as radarkit\n",
    "\n",
    "blib.useTheme(\"dark\")"
   ]
  },
  {
   "cell_type": "code",
   "execution_count": null,
   "metadata": {},
   "outputs": [],
   "source": [
    "wav = radarkit.RKWaveformInitFromFile(\"data/waveform/o95.rkwav\")"
   ]
  },
  {
   "cell_type": "code",
   "execution_count": null,
   "metadata": {},
   "outputs": [],
   "source": [
    "wav_bb = radarkit.RKWaveformCopy(wav)\n",
    "radarkit.RKWaveformDownConvert(wav_bb)\n",
    "radarkit.RKWaveformDecimate(wav_bb, 32)"
   ]
  },
  {
   "cell_type": "code",
   "execution_count": null,
   "metadata": {},
   "outputs": [],
   "source": [
    "s = radarkit.read_RKComplex_from_waveform(wav_bb)\n",
    "\n",
    "fig = plt.figure(figsize=(10, 3))\n",
    "hl = blib.cplot(s)"
   ]
  },
  {
   "cell_type": "code",
   "execution_count": null,
   "metadata": {},
   "outputs": [],
   "source": [
    "wav = radarkit.RKWaveformInitFromFile(\"data/waveform/lh5.rkwav\")\n",
    "\n",
    "wav_bb = radarkit.RKWaveformCopy(wav)\n",
    "radarkit.RKWaveformDownConvert(wav_bb)\n",
    "radarkit.RKWaveformDecimate(wav_bb, 4)"
   ]
  },
  {
   "cell_type": "code",
   "execution_count": null,
   "metadata": {},
   "outputs": [],
   "source": [
    "for index in range(wav_bb.contents.count):\n",
    "    s = radarkit.read_RKComplex_from_waveform(wav_bb, index)\n",
    "\n",
    "    fig = plt.figure(figsize=(10, 2.5))\n",
    "    hl = blib.cplot(s)\n",
    "    plt.title(f'index = {index}')\n"
   ]
  },
  {
   "cell_type": "code",
   "execution_count": null,
   "metadata": {},
   "outputs": [],
   "source": [
    "plt.close()"
   ]
  },
  {
   "cell_type": "code",
   "execution_count": null,
   "metadata": {},
   "outputs": [],
   "source": []
  }
 ],
 "metadata": {
  "kernelspec": {
   "display_name": "Python 3",
   "language": "python",
   "name": "python3"
  },
  "language_info": {
   "codemirror_mode": {
    "name": "ipython",
    "version": 3
   },
   "file_extension": ".py",
   "mimetype": "text/x-python",
   "name": "python",
   "nbconvert_exporter": "python",
   "pygments_lexer": "ipython3",
   "version": "3.11.4"
  }
 },
 "nbformat": 4,
 "nbformat_minor": 2
}
