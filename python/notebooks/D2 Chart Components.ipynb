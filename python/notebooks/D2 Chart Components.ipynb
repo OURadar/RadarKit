{
 "cells": [
  {
   "cell_type": "code",
   "execution_count": null,
   "metadata": {},
   "outputs": [],
   "source": [
    "%matplotlib inline\n",
    "\n",
    "import matplotlib\n",
    "import matplotlib.patheffects\n",
    "import matplotlib.pyplot as plt\n",
    "import numpy as np\n",
    "\n",
    "import blib\n",
    "blib.useTheme(\"dark\")\n",
    "\n",
    "import src.radarkit as radarkit\n",
    "import src.radarkit.chart\n",
    "import src.radarkit.overlay as overlay\n"
   ]
  },
  {
   "cell_type": "code",
   "execution_count": null,
   "metadata": {},
   "outputs": [],
   "source": [
    "origin = (-97.44, 35.22)\n",
    "extent = [s * 6 for s in (-16, -9, 16, 9)]\n",
    "\n",
    "# grid = overlay.Overlay(origin, extent, s=1.5)\n",
    "grid = overlay.Overlay(origin, extent, s=1.5, density=8)\n",
    "grid.load()"
   ]
  },
  {
   "cell_type": "code",
   "execution_count": null,
   "metadata": {},
   "outputs": [],
   "source": [
    "# points_per_km = 1280 / 40\n",
    "\n",
    "# weights = [1, 2, 5, 10, 20, 50, 100, 200, 1000, 5000, 1000000]\n",
    "# ppk = [2500 * np.log(x) / x if x > 1 else 1000 for x in weights]\n",
    "# inside = [2500 * np.log(x) / x < points_per_km if x > 1 else False for x in weights]\n",
    "\n",
    "# print(f'points_per_km: {points_per_km}\\n\\n')\n",
    "# for x in zip(weights, ppk, inside):\n",
    "#     print(f'{x[0]:,} -> {x[1]:.2f} -> {x[2]}')"
   ]
  },
  {
   "cell_type": "code",
   "execution_count": null,
   "metadata": {},
   "outputs": [],
   "source": [
    "# %timeit labels = draw_text(ax, text)"
   ]
  },
  {
   "cell_type": "code",
   "execution_count": null,
   "metadata": {},
   "outputs": [],
   "source": [
    "fig = plt.figure(figsize=(1280/72, 720/72), dpi=72)\n",
    "ax = fig.add_axes([0, 0, 1, 1], frameon=False, snap=True)\n",
    "grid.draw(ax)"
   ]
  },
  {
   "cell_type": "code",
   "execution_count": null,
   "metadata": {},
   "outputs": [],
   "source": [
    "plt.close(fig)"
   ]
  },
  {
   "cell_type": "markdown",
   "metadata": {},
   "source": [
    "## Snippets for Development"
   ]
  },
  {
   "cell_type": "code",
   "execution_count": null,
   "metadata": {},
   "outputs": [],
   "source": [
    "# import matplotlib\n",
    "# matplotlib.rcParams"
   ]
  },
  {
   "cell_type": "code",
   "execution_count": null,
   "metadata": {},
   "outputs": [],
   "source": [
    "fig = plt.figure(figsize=(5, 5))\n",
    "\n",
    "for k, d in enumerate([\"northwest\", \"north\", \"northeast\", \"west\", \"inside\", \"east\", \"southwest\", \"south\", \"southeast\"]):\n",
    "    m = radarkit.chart.shade((80, 50), (0.4, 0.6), [1, 0.7, 0, 0.7], direction=d)\n",
    "    ax = fig.add_subplot(3, 3, k+1)\n",
    "    ax.set(xticks=[], yticks=[])\n",
    "    ax.text(0.5, 0.5, d, ha=\"center\", va=\"center\", fontsize=12, color=\"white\")\n",
    "    ax.imshow(m, extent='auto')"
   ]
  },
  {
   "cell_type": "code",
   "execution_count": null,
   "metadata": {},
   "outputs": [],
   "source": [
    "origin = (-97.52055, 34.98253)\n",
    "extent = (-65.52, -53.41, 65.52, 53.41)\n",
    "labels = radarkit.overlay.get(\"city\", origin, extent, density=4.83)\n",
    "labels"
   ]
  },
  {
   "cell_type": "code",
   "execution_count": null,
   "metadata": {},
   "outputs": [],
   "source": [
    "# plt.close(\"all\")\n",
    "\n",
    "# chart = importlib.reload(chart)\n",
    "# chart.overlay = importlib.reload(chart.overlay)"
   ]
  }
 ],
 "metadata": {
  "kernelspec": {
   "display_name": "Python 3",
   "language": "python",
   "name": "python3"
  },
  "language_info": {
   "codemirror_mode": {
    "name": "ipython",
    "version": 3
   },
   "file_extension": ".py",
   "mimetype": "text/x-python",
   "name": "python",
   "nbconvert_exporter": "python",
   "pygments_lexer": "ipython3",
   "version": "3.11.4"
  }
 },
 "nbformat": 4,
 "nbformat_minor": 2
}
