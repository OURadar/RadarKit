{
 "cells": [
  {
   "cell_type": "markdown",
   "metadata": {},
   "source": [
    "# Viewing Radar Products"
   ]
  },
  {
   "cell_type": "code",
   "execution_count": null,
   "metadata": {},
   "outputs": [],
   "source": [
    "%matplotlib inline\n",
    "\n",
    "import glob\n",
    "import matplotlib.pyplot as plt\n",
    "plt.ioff()\n",
    "\n",
    "import blib\n",
    "blib.useTheme(\"dark\")\n",
    "\n",
    "import radarkit\n",
    "import radarkit.chart"
   ]
  },
  {
   "cell_type": "markdown",
   "metadata": {},
   "source": [
    "# RHI"
   ]
  },
  {
   "cell_type": "code",
   "execution_count": null,
   "metadata": {},
   "outputs": [],
   "source": [
    "# files = sorted(glob.glob(\"data/moment/20231004/*.xz\"))\n",
    "# files = glob.glob('data/moment/20230511/*-Z.nc')\n",
    "files = sorted(glob.glob('data/moment/20231004/*-Z.nc'))\n",
    "assert len(files) > 0, \"No files found\"\n",
    "file = files[min(len(files), 7)]\n",
    "print(f\"Selected file {file} ({len(files)} files)\")"
   ]
  },
  {
   "cell_type": "code",
   "execution_count": null,
   "metadata": {},
   "outputs": [],
   "source": [
    "sweep = radarkit.sweep.Sweep(file)\n",
    "\n",
    "# rhi = radarkit.chart.ChartRHI(size=(2560, 1440), s=2.0)\n",
    "# rhi.set_data(sweep)\n",
    "\n",
    "rhi = radarkit.chart.ChartRHI(sweep, size=(1920, 1080), s=1.5)\n",
    "rhi.fig"
   ]
  },
  {
   "cell_type": "markdown",
   "metadata": {},
   "source": [
    "# PPI"
   ]
  },
  {
   "cell_type": "code",
   "execution_count": null,
   "metadata": {},
   "outputs": [],
   "source": [
    "files = sorted(glob.glob(\"data/moment/20230130/*-Z.nc\"))\n",
    "assert len(files) > 0, \"No files found\"\n",
    "file = files[0]\n",
    "print(f\"Selected file {file}\")"
   ]
  },
  {
   "cell_type": "code",
   "execution_count": null,
   "metadata": {},
   "outputs": [],
   "source": [
    "sweep = radarkit.sweep.Sweep(file)\n",
    "\n",
    "# ppi = radarkit.chart.ChartPPI()\n",
    "# ppi.set_data(sweep)\n",
    "\n",
    "ppi = radarkit.chart.ChartPPI(sweep, size=(1920, 1080), titlecolor=\"steelblue\")\n",
    "ppi.fig"
   ]
  },
  {
   "cell_type": "code",
   "execution_count": null,
   "metadata": {},
   "outputs": [],
   "source": [
    "plt.show()"
   ]
  },
  {
   "cell_type": "code",
   "execution_count": null,
   "metadata": {},
   "outputs": [],
   "source": [
    "plt.close(\"all\")"
   ]
  }
 ],
 "metadata": {
  "kernelspec": {
   "display_name": "Python 3",
   "language": "python",
   "name": "python3"
  },
  "language_info": {
   "codemirror_mode": {
    "name": "ipython",
    "version": 3
   },
   "file_extension": ".py",
   "mimetype": "text/x-python",
   "name": "python",
   "nbconvert_exporter": "python",
   "pygments_lexer": "ipython3",
   "version": "3.11.4"
  }
 },
 "nbformat": 4,
 "nbformat_minor": 2
}
