{
 "cells": [
  {
   "cell_type": "markdown",
   "metadata": {},
   "source": [
    "# Interfacing RKProductCollection"
   ]
  },
  {
   "cell_type": "code",
   "execution_count": 1,
   "metadata": {},
   "outputs": [],
   "source": [
    "import os\n",
    "import sys\n",
    "import glob\n",
    "import time\n",
    "import numpy as np\n",
    "import matplotlib.pyplot as plt\n",
    "plt.ioff()\n",
    "\n",
    "import blib\n",
    "blib.useTheme(\"dark\")\n",
    "\n",
    "srcDir = os.path.abspath(\"../src\")\n",
    "if os.path.exists(srcDir):\n",
    "    sys.path.insert(0, srcDir)\n",
    "\n",
    "import radarkit\n",
    "import radarkit.chart"
   ]
  },
  {
   "cell_type": "code",
   "execution_count": null,
   "metadata": {},
   "outputs": [],
   "source": [
    "files = sorted(glob.glob(os.path.expanduser('~/Downloads/data/PX*.txz')))\n",
    "assert len(files) > 0, \"No files found\"\n",
    "file = files[min(len(files) - 1, 7)]\n",
    "print(f\"Selected file {file} ({len(files)} files)\")"
   ]
  },
  {
   "cell_type": "code",
   "execution_count": null,
   "metadata": {},
   "outputs": [],
   "source": [
    "data = radarkit.sweep.Sweep(file)"
   ]
  },
  {
   "cell_type": "code",
   "execution_count": 4,
   "metadata": {},
   "outputs": [],
   "source": [
    "# v = [np.expand_dims(data.products[k], axis=0) for k in data.products.keys()]\n",
    "# plain = np.concatenate(v)\n",
    "# plain[4, :, :] = np.deg2rad(plain[4, :, :])\n",
    "# sweep = radarkit.sweep.Sweep(plain)"
   ]
  },
  {
   "cell_type": "code",
   "execution_count": null,
   "metadata": {},
   "outputs": [],
   "source": [
    "ppi = radarkit.chart.ChartPPI(data)"
   ]
  },
  {
   "cell_type": "code",
   "execution_count": null,
   "metadata": {},
   "outputs": [],
   "source": []
  }
 ],
 "metadata": {
  "kernelspec": {
   "display_name": "3.12.4",
   "language": "python",
   "name": "python3"
  },
  "language_info": {
   "codemirror_mode": {
    "name": "ipython",
    "version": 3
   },
   "file_extension": ".py",
   "mimetype": "text/x-python",
   "name": "python",
   "nbconvert_exporter": "python",
   "pygments_lexer": "ipython3",
   "version": "3.12.4"
  }
 },
 "nbformat": 4,
 "nbformat_minor": 2
}
