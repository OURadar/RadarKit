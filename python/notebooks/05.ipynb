{
 "cells": [
  {
   "cell_type": "code",
   "execution_count": null,
   "metadata": {},
   "outputs": [],
   "source": [
    "%matplotlib inline\n",
    "\n",
    "import matplotlib\n",
    "import matplotlib.patheffects\n",
    "import matplotlib.pyplot as plt\n",
    "import numpy as np\n",
    "\n",
    "import blib\n",
    "blib.useTheme(\"dark\")\n",
    "\n",
    "import src.radarkit.map as rkmap"
   ]
  },
  {
   "cell_type": "code",
   "execution_count": null,
   "metadata": {},
   "outputs": [],
   "source": [
    "origin = (-97.44, 35.22)\n",
    "extent = (-160, 160, -90, 90)\n",
    "# extent = (-1600, 1600, -900, 900)\n",
    "\n",
    "path_effects = [\n",
    "    matplotlib.patheffects.Stroke(linewidth=2.5, foreground=(0.0, 0.0, 0.0, 0.6)),\n",
    "    matplotlib.patheffects.Normal()\n",
    "]"
   ]
  },
  {
   "cell_type": "code",
   "execution_count": null,
   "metadata": {},
   "outputs": [],
   "source": [
    "# paths_county = rkmap.get('county', origin, extent)\n",
    "# paths_highway = rkmap.get('highway', origin, extent)\n",
    "\n",
    "text = rkmap.get(\"city\", origin, extent)\n",
    "\n",
    "print(f\"text has {len(text)} labels\")"
   ]
  },
  {
   "cell_type": "code",
   "execution_count": null,
   "metadata": {},
   "outputs": [],
   "source": [
    "# points_per_km = 1280 / 40\n",
    "\n",
    "# weights = [1, 2, 5, 10, 20, 50, 100, 200, 1000, 5000, 1000000]\n",
    "# ppk = [2500 * np.log(x) / x if x > 1 else 1000 for x in weights]\n",
    "# inside = [2500 * np.log(x) / x < points_per_km if x > 1 else False for x in weights]\n",
    "\n",
    "# print(f'points_per_km: {points_per_km}\\n\\n')\n",
    "# for x in zip(weights, ppk, inside):\n",
    "#     print(f'{x[0]:,} -> {x[1]:.2f} -> {x[2]}')"
   ]
  },
  {
   "cell_type": "code",
   "execution_count": null,
   "metadata": {},
   "outputs": [],
   "source": [
    "weight_big = 50000\n",
    "weight_med = 95000      # Norman is 95694\n",
    "\n",
    "labelfont = blib.getFontOfWeight(weight=600)\n",
    "labelprops = {\n",
    "    \"fontproperties\": labelfont,\n",
    "    \"horizontalalignment\": \"center\",\n",
    "    \"verticalalignment\": \"center\",\n",
    "}\n",
    "\n",
    "def draw_text(ax, labels):\n",
    "    extents = []\n",
    "    for x, y, label, pop in labels:\n",
    "        size = 16 if pop > weight_big else 14 if pop > weight_med else 12\n",
    "        text = matplotlib.text.Text(x, y, label, size=size, **labelprops)\n",
    "        ax.add_artist(text)\n",
    "        text_box = text.get_window_extent()\n",
    "        overlap = False\n",
    "        for extent in extents:\n",
    "            if extent.overlaps(text_box):\n",
    "                overlap = True\n",
    "                break\n",
    "        if overlap:\n",
    "            text.remove()\n",
    "        else:\n",
    "            text.set(path_effects=path_effects)\n",
    "            extents.append(text_box)"
   ]
  },
  {
   "cell_type": "code",
   "execution_count": null,
   "metadata": {},
   "outputs": [],
   "source": [
    "extent = [s * 6 for s in (-16, 16, -9, 9)]\n",
    "\n",
    "fig = plt.figure(figsize=(1280/72, 720/72), dpi=72)\n",
    "ax = fig.add_axes([0, 0, 1, 1], frameon=False, snap=True)\n",
    "ax.set(xlim=extent[:2], ylim=extent[-2:], xticks=[], yticks=[])\n",
    "for p in paths_county:\n",
    "    ax.add_line(matplotlib.lines.Line2D(p[:, 0], p[:, 1], color=rkmap.colors.county))\n",
    "for p in paths_highway:\n",
    "    ax.add_line(matplotlib.lines.Line2D(p[:, 0], p[:, 1], color=rkmap.colors.highway))\n",
    "\n",
    "draw_text(ax, text)"
   ]
  },
  {
   "cell_type": "code",
   "execution_count": null,
   "metadata": {},
   "outputs": [],
   "source": [
    "plt.close()"
   ]
  },
  {
   "cell_type": "code",
   "execution_count": null,
   "metadata": {},
   "outputs": [],
   "source": [
    "import importlib\n",
    "rkmap = importlib.reload(rkmap)"
   ]
  },
  {
   "cell_type": "code",
   "execution_count": null,
   "metadata": {},
   "outputs": [],
   "source": [
    "text = rkmap.get(\"city\", origin, extent)\n",
    "\n",
    "print(f\"text has {len(text)} labels\")"
   ]
  },
  {
   "cell_type": "code",
   "execution_count": null,
   "metadata": {},
   "outputs": [],
   "source": []
  }
 ],
 "metadata": {
  "kernelspec": {
   "display_name": "Python 3",
   "language": "python",
   "name": "python3"
  },
  "language_info": {
   "codemirror_mode": {
    "name": "ipython",
    "version": 3
   },
   "file_extension": ".py",
   "mimetype": "text/x-python",
   "name": "python",
   "nbconvert_exporter": "python",
   "pygments_lexer": "ipython3",
   "version": "3.11.4"
  }
 },
 "nbformat": 4,
 "nbformat_minor": 2
}
