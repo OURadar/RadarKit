{
 "cells": [
  {
   "cell_type": "code",
   "execution_count": null,
   "metadata": {},
   "outputs": [],
   "source": [
    "%matplotlib inline\n",
    "\n",
    "import matplotlib\n",
    "import matplotlib.patheffects\n",
    "import matplotlib.pyplot as plt\n",
    "import numpy as np\n",
    "\n",
    "import blib\n",
    "blib.useTheme(\"dark\")\n",
    "\n",
    "import src.radarkit.overlay as overlay"
   ]
  },
  {
   "cell_type": "code",
   "execution_count": null,
   "metadata": {},
   "outputs": [],
   "source": [
    "origin = (-97.44, 35.22)\n",
    "# extent = (-160, 160, -90, 90)\n",
    "# extent = (-1600, 1600, -900, 900)"
   ]
  },
  {
   "cell_type": "code",
   "execution_count": null,
   "metadata": {},
   "outputs": [],
   "source": [
    "# points_per_km = 1280 / 40\n",
    "\n",
    "# weights = [1, 2, 5, 10, 20, 50, 100, 200, 1000, 5000, 1000000]\n",
    "# ppk = [2500 * np.log(x) / x if x > 1 else 1000 for x in weights]\n",
    "# inside = [2500 * np.log(x) / x < points_per_km if x > 1 else False for x in weights]\n",
    "\n",
    "# print(f'points_per_km: {points_per_km}\\n\\n')\n",
    "# for x in zip(weights, ppk, inside):\n",
    "#     print(f'{x[0]:,} -> {x[1]:.2f} -> {x[2]}')"
   ]
  },
  {
   "cell_type": "code",
   "execution_count": null,
   "metadata": {},
   "outputs": [],
   "source": [
    "# %timeit labels = draw_text(ax, text)"
   ]
  },
  {
   "cell_type": "code",
   "execution_count": null,
   "metadata": {},
   "outputs": [],
   "source": [
    "extent = [s * 6 for s in (-16, 16, -9, 9)]\n",
    "\n",
    "overlays = overlay.Overlay(origin, extent, s=1.5)"
   ]
  },
  {
   "cell_type": "code",
   "execution_count": null,
   "metadata": {},
   "outputs": [],
   "source": [
    "overlays.load()"
   ]
  },
  {
   "cell_type": "code",
   "execution_count": null,
   "metadata": {},
   "outputs": [],
   "source": [
    "fig = plt.figure(figsize=(1280/72, 720/72), dpi=72)\n",
    "ax = fig.add_axes([0, 0, 1, 1], frameon=False, snap=True)\n",
    "\n",
    "overlays.draw(ax)"
   ]
  },
  {
   "cell_type": "code",
   "execution_count": null,
   "metadata": {},
   "outputs": [],
   "source": [
    "plt.close()"
   ]
  },
  {
   "cell_type": "code",
   "execution_count": null,
   "metadata": {},
   "outputs": [],
   "source": []
  }
 ],
 "metadata": {
  "kernelspec": {
   "display_name": "Python 3",
   "language": "python",
   "name": "python3"
  },
  "language_info": {
   "codemirror_mode": {
    "name": "ipython",
    "version": 3
   },
   "file_extension": ".py",
   "mimetype": "text/x-python",
   "name": "python",
   "nbconvert_exporter": "python",
   "pygments_lexer": "ipython3",
   "version": "3.11.4"
  }
 },
 "nbformat": 4,
 "nbformat_minor": 2
}
