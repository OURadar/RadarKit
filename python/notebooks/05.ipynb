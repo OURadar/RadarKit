{
 "cells": [
  {
   "cell_type": "code",
   "execution_count": null,
   "metadata": {},
   "outputs": [],
   "source": [
    "%matplotlib inline\n",
    "\n",
    "import matplotlib\n",
    "import matplotlib.pyplot as plt\n",
    "import numpy as np\n",
    "\n",
    "import blib\n",
    "blib.useTheme(\"dark\")\n",
    "\n",
    "import src.radarkit.map as map"
   ]
  },
  {
   "cell_type": "code",
   "execution_count": null,
   "metadata": {},
   "outputs": [],
   "source": [
    "r_earth = 6378.0\n",
    "origin = (-97.44, 35.22)\n",
    "extent = (-160, 160, -90, 90)\n",
    "# extent = (-1600, 1600, -900, 900)"
   ]
  },
  {
   "cell_type": "code",
   "execution_count": null,
   "metadata": {},
   "outputs": [],
   "source": [
    "# paths = map.subsetPaths('state', origin, extent)\n",
    "paths_county = map.subsetPaths('county', origin, extent)\n",
    "paths_highway = map.subsetPaths('highway', origin, extent)"
   ]
  },
  {
   "cell_type": "code",
   "execution_count": null,
   "metadata": {},
   "outputs": [],
   "source": []
  },
  {
   "cell_type": "code",
   "execution_count": null,
   "metadata": {},
   "outputs": [],
   "source": [
    "fig = plt.figure(dpi=72)\n",
    "ax = fig.add_axes([0, 0, 1, 1])\n",
    "for p in paths_county:\n",
    "    ax.add_line(matplotlib.lines.Line2D(p[:, 0], p[:, 1], linewidth=0.8, color=map.colors.county))\n",
    "for p in paths_highway:\n",
    "    ax.add_line(matplotlib.lines.Line2D(p[:, 0], p[:, 1], color=map.colors.highway))\n",
    "ax.axis('equal')\n",
    "ax.set(xlim=extent[:2], ylim=extent[-2:])"
   ]
  },
  {
   "cell_type": "code",
   "execution_count": null,
   "metadata": {},
   "outputs": [],
   "source": [
    "plt.close()"
   ]
  },
  {
   "cell_type": "code",
   "execution_count": null,
   "metadata": {},
   "outputs": [],
   "source": []
  }
 ],
 "metadata": {
  "kernelspec": {
   "display_name": "Python 3",
   "language": "python",
   "name": "python3"
  },
  "language_info": {
   "codemirror_mode": {
    "name": "ipython",
    "version": 3
   },
   "file_extension": ".py",
   "mimetype": "text/x-python",
   "name": "python",
   "nbconvert_exporter": "python",
   "pygments_lexer": "ipython3",
   "version": "3.11.4"
  }
 },
 "nbformat": 4,
 "nbformat_minor": 2
}
