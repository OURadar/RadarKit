{
 "cells": [
  {
   "cell_type": "code",
   "execution_count": null,
   "metadata": {},
   "outputs": [],
   "source": [
    "%matplotlib inline\n",
    "\n",
    "import matplotlib\n",
    "import matplotlib.pyplot as plt\n",
    "import numpy as np\n",
    "\n",
    "import blib\n",
    "blib.useTheme(\"dark\")\n",
    "\n",
    "import src.radarkit.map as map"
   ]
  },
  {
   "cell_type": "code",
   "execution_count": null,
   "metadata": {},
   "outputs": [],
   "source": [
    "r_earth = 6378.0\n",
    "origin = (-97.44, 35.22)\n",
    "view_range = 120\n",
    "view_range_deg = np.degrees(view_range / r_earth)\n",
    "lat_min, lat_max = origin[1] - view_range_deg, origin[1] + view_range_deg\n",
    "lon_min, lon_max = origin[0] - view_range_deg, origin[0] + view_range_deg\n",
    "extent = (-160, 160, -90, 90)"
   ]
  },
  {
   "cell_type": "code",
   "execution_count": null,
   "metadata": {},
   "outputs": [],
   "source": [
    "poly = map.get('county')\n",
    "coords = map.coordsFromPoly(poly)"
   ]
  },
  {
   "cell_type": "code",
   "execution_count": null,
   "metadata": {},
   "outputs": [],
   "source": [
    "paths = map.subsetPaths(poly, origin, extent)"
   ]
  },
  {
   "cell_type": "code",
   "execution_count": null,
   "metadata": {},
   "outputs": [],
   "source": [
    "fig = plt.figure()\n",
    "ax = fig.add_axes([0, 0, 1, 1])\n",
    "for p in paths:\n",
    "    ax.add_line(matplotlib.lines.Line2D(p[:, 0], p[:, 1]))\n",
    "ax.axis('equal')"
   ]
  },
  {
   "cell_type": "code",
   "execution_count": null,
   "metadata": {},
   "outputs": [],
   "source": [
    "k = 7\n",
    "fig = plt.figure()\n",
    "ax = fig.add_axes([0, 0, 1, 1])\n",
    "for p in paths:\n",
    "    ax.add_line(matplotlib.lines.Line2D(p[:, 0], p[:, 1]))\n",
    "ax.add_line(matplotlib.lines.Line2D(paths[k][:, 0], paths[k][:, 1], color='r'))\n",
    "ax.axis('equal')\n",
    "ax.set(xlim=extent[:2], ylim=extent[-2:])"
   ]
  },
  {
   "cell_type": "code",
   "execution_count": null,
   "metadata": {},
   "outputs": [],
   "source": [
    "plt.close()"
   ]
  },
  {
   "cell_type": "code",
   "execution_count": null,
   "metadata": {},
   "outputs": [],
   "source": []
  }
 ],
 "metadata": {
  "kernelspec": {
   "display_name": "Python 3",
   "language": "python",
   "name": "python3"
  },
  "language_info": {
   "codemirror_mode": {
    "name": "ipython",
    "version": 3
   },
   "file_extension": ".py",
   "mimetype": "text/x-python",
   "name": "python",
   "nbconvert_exporter": "python",
   "pygments_lexer": "ipython3",
   "version": "3.11.4"
  }
 },
 "nbformat": 4,
 "nbformat_minor": 2
}
