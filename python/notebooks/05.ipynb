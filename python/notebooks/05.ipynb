{
 "cells": [
  {
   "cell_type": "code",
   "execution_count": null,
   "metadata": {},
   "outputs": [],
   "source": [
    "%matplotlib inline\n",
    "\n",
    "import matplotlib\n",
    "import matplotlib.pyplot as plt\n",
    "import numpy as np\n",
    "\n",
    "import blib\n",
    "blib.useTheme(\"dark\")\n",
    "\n",
    "import src.radarkit.map as map"
   ]
  },
  {
   "cell_type": "code",
   "execution_count": null,
   "metadata": {},
   "outputs": [],
   "source": [
    "r_earth = 6378.0\n",
    "origin = (-97.44, 35.22)\n",
    "view_range = 120\n",
    "view_range_deg = np.degrees(view_range / r_earth)\n",
    "lat_min, lat_max = origin[1] - view_range_deg, origin[1] + view_range_deg\n",
    "lon_min, lon_max = origin[0] - view_range_deg, origin[0] + view_range_deg"
   ]
  },
  {
   "cell_type": "code",
   "execution_count": null,
   "metadata": {},
   "outputs": [],
   "source": [
    "poly = map.get('county')"
   ]
  },
  {
   "cell_type": "code",
   "execution_count": null,
   "metadata": {},
   "outputs": [],
   "source": [
    "coords = []\n",
    "w = poly['transform']['scale']\n",
    "b = poly['transform']['translate']\n",
    "for arc in poly['arcs']:\n",
    "    lat = w[1] * arc[0][1] + b[1]\n",
    "    if lat < -89:\n",
    "        continue\n",
    "    p = []\n",
    "    point = [0, 0]\n",
    "    for p in arc:\n",
    "        point[0] += p[0]\n",
    "        point[1] += p[1]\n",
    "        lon = w[0] * point[0] + b[0]\n",
    "        lat = w[1] * point[1] + b[1]\n",
    "        p.append([lon, lat])\n",
    "    coords.append(np.array(p))"
   ]
  },
  {
   "cell_type": "code",
   "execution_count": null,
   "metadata": {},
   "outputs": [],
   "source": [
    "# View projection matrix\n",
    "\n",
    "rot = map.makeRotationForCoord(*origin)\n",
    "\n",
    "def project_v2(coords):\n",
    "    a, b = coords[:, 0], coords[:, 1]\n",
    "    m = r_earth * np.cos(a)\n",
    "    y = r_earth * np.sin(a)\n",
    "    z = m * np.cos(b)\n",
    "    x = m * np.sin(b)\n",
    "    p = np.array((x, y, z)).transpose()\n",
    "    return np.matmul(p, rot)\n",
    "\n",
    "def project(coords):\n",
    "    m = r_earth * np.cos(coords[:, 1])\n",
    "    y = r_earth * np.sin(coords[:, 1])\n",
    "    z = m * np.cos(coords[:, 0])\n",
    "    x = m * np.sin(coords[:, 0])\n",
    "    p = np.array((x, y, z)).transpose()\n",
    "    return np.matmul(p, rot)"
   ]
  },
  {
   "cell_type": "code",
   "execution_count": null,
   "metadata": {},
   "outputs": [],
   "source": [
    "def subset_coords(coords, extent):\n",
    "    x_min, x_max, y_min, y_max = extent\n",
    "    subset = []\n",
    "    for p in coords:\n",
    "        outside = np.logical_or(np.logical_or(p[:, 0] < x_min, p[:, 0] > x_max),\n",
    "                                np.logical_or(p[:, 1] < y_min, p[:, 1] > y_max))\n",
    "        if np.all(outside):\n",
    "            continue\n",
    "        subset.append(p)\n",
    "    return subset\n",
    "\n",
    "\n",
    "def subset_coords_reduce(coords, extent):\n",
    "    x_min, x_max, y_min, y_max = extent\n",
    "    subset = []\n",
    "    for p in coords:\n",
    "        outside = np.logical_or.reduce((p[:, 0] < x_min, p[:, 0] > x_max, p[:, 1] < y_min, p[:, 1] > y_max))\n",
    "        if np.all(outside):\n",
    "            continue\n",
    "        subset.append(p)\n",
    "    return subset\n",
    "\n",
    "subset = subset_coords(coords, (lon_min, lon_max, lat_min, lat_max))\n",
    "# subset = subset_coords_reduce(coords, (lon_min, lon_max, lat_min, lat_max))\n",
    "\n",
    "print(f\"{len(coords)} -> {len(subset)}\")"
   ]
  },
  {
   "cell_type": "code",
   "execution_count": null,
   "metadata": {},
   "outputs": [],
   "source": [
    "%timeit county_lines = subset_coords(coords, (lon_min, lon_max, lat_min, lat_max))\n",
    "%timeit county_lines = subset_coords_reduce(coords, (lon_min, lon_max, lat_min, lat_max))"
   ]
  },
  {
   "cell_type": "code",
   "execution_count": null,
   "metadata": {},
   "outputs": [],
   "source": [
    "def subset_paths(coords, extent):\n",
    "    x_min, x_max, y_min, y_max = extent\n",
    "    subset = []\n",
    "    for k, c in enumerate(coords):\n",
    "        p = project(np.radians(c))\n",
    "        outside = np.logical_or(np.logical_or(p[:, 0] < x_min, p[:, 0] > x_max),\n",
    "                                np.logical_or(p[:, 1] < y_min, p[:, 1] > y_max))\n",
    "        if np.all(outside):\n",
    "            continue\n",
    "        subset.append(p)\n",
    "    return subset\n",
    "\n",
    "subset2 = subset_paths(coords, (-160, 160, -90, 90))\n",
    "\n",
    "print(f\"{len(coords)} -> {len(subset2)}\")"
   ]
  },
  {
   "cell_type": "code",
   "execution_count": null,
   "metadata": {},
   "outputs": [],
   "source": [
    "fig = plt.figure()\n",
    "ax = fig.add_axes([0, 0, 1, 1])\n",
    "for p in subset:\n",
    "    ax.add_line(matplotlib.lines.Line2D(p[:, 0], p[:, 1]))\n",
    "ax.axis('equal')\n",
    "# ax.set(xlim=(x_min, x_max), ylim=(y_min, y_max))"
   ]
  },
  {
   "cell_type": "code",
   "execution_count": null,
   "metadata": {},
   "outputs": [],
   "source": [
    "n = 0\n",
    "for p in subset2:\n",
    "    n += p.shape[0] + 1\n",
    "\n",
    "subset3 = np.empty((n, 3), dtype=np.float32)\n",
    "\n",
    "k = 0\n",
    "for p in subset2:\n",
    "    n = p.shape[0]\n",
    "    subset3[k:k+n, :] = p\n",
    "    k += n + 1\n",
    "\n",
    "subset3.shape"
   ]
  },
  {
   "cell_type": "code",
   "execution_count": null,
   "metadata": {},
   "outputs": [],
   "source": [
    "fig = plt.figure()\n",
    "ax = fig.add_axes([0, 0, 1, 1])\n",
    "for p in subset2:\n",
    "    ax.add_line(matplotlib.lines.Line2D(p[:, 0], p[:, 1]))\n",
    "ax.axis('equal')\n",
    "ax.set(xlim=(lon_min, lon_max), ylim=(lat_min, lat_max))\n"
   ]
  },
  {
   "cell_type": "code",
   "execution_count": null,
   "metadata": {},
   "outputs": [],
   "source": [
    "plt.close()"
   ]
  },
  {
   "cell_type": "code",
   "execution_count": null,
   "metadata": {},
   "outputs": [],
   "source": [
    "k = 7\n",
    "fig = plt.figure()\n",
    "ax = fig.add_axes([0, 0, 1, 1])\n",
    "for p in subset2:\n",
    "    ax.add_line(matplotlib.lines.Line2D(p[:, 0], p[:, 1]))\n",
    "ax.add_line(matplotlib.lines.Line2D(subset2[k][:, 0], subset2[k][:, 1], color='r'))\n",
    "ax.axis('equal')\n",
    "ax.set(xlim=(-160, 160), ylim=(-90, 90))"
   ]
  },
  {
   "cell_type": "code",
   "execution_count": null,
   "metadata": {},
   "outputs": [],
   "source": [
    "plt.close()"
   ]
  },
  {
   "cell_type": "code",
   "execution_count": null,
   "metadata": {},
   "outputs": [],
   "source": []
  }
 ],
 "metadata": {
  "kernelspec": {
   "display_name": "Python 3",
   "language": "python",
   "name": "python3"
  },
  "language_info": {
   "codemirror_mode": {
    "name": "ipython",
    "version": 3
   },
   "file_extension": ".py",
   "mimetype": "text/x-python",
   "name": "python",
   "nbconvert_exporter": "python",
   "pygments_lexer": "ipython3",
   "version": "3.11.4"
  }
 },
 "nbformat": 4,
 "nbformat_minor": 2
}
