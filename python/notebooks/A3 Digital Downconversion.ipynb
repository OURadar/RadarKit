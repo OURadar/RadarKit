{
 "cells": [
  {
   "cell_type": "markdown",
   "metadata": {},
   "source": [
    "# Digital Downconversion\n",
    "\n",
    "To obtain a single side band time-series of a real signal, the Hilbert transform can be used. It works as follows. First, the signal is converted into frequency domain representation using discrete Fourier transform. Then, the second half of the spectrum (&pi; to 2&pi;) is set to zero, which essentially remove the double-sided nature of real signal. Finally, the time-domain representation is obtained by performing the inverse Fourier transform."
   ]
  },
  {
   "cell_type": "code",
   "execution_count": null,
   "metadata": {
    "collapsed": true
   },
   "outputs": [],
   "source": [
    "%matplotlib inline\n",
    "\n",
    "import matplotlib\n",
    "import numpy as np"
   ]
  },
  {
   "cell_type": "code",
   "execution_count": null,
   "metadata": {
    "collapsed": true
   },
   "outputs": [],
   "source": [
    "def hilbert(x):\n",
    "    nfft = int(np.power(2, np.ceil(np.log2(len(x)))))\n",
    "    xf = np.fft.fft(x, nfft)\n",
    "    H = int(nfft / 2)\n",
    "    # Numpy's FFT module has a default normalization of 1 / N already\n",
    "    xf[1:H] *= 2.0\n",
    "    xf[H:nfft] = 0\n",
    "    y = np.fft.ifft(xf, nfft)\n",
    "    return y[0:len(x)]"
   ]
  },
  {
   "cell_type": "code",
   "execution_count": null,
   "metadata": {
    "collapsed": true
   },
   "outputs": [],
   "source": [
    "def downConvert(x, omega):\n",
    "    s = np.exp(-1j * omega * np.arange(len(x)))\n",
    "    return np.multiply(s, hilbert(x))"
   ]
  },
  {
   "cell_type": "code",
   "execution_count": null,
   "metadata": {},
   "outputs": [],
   "source": [
    "N = 300\n",
    "n = np.arange(N + 200)\n",
    "x = np.sin(0.02 * 2.0 * np.pi * n + 0.1)\n",
    "x[-200::] = 0\n",
    "np.sqrt(np.sum(np.abs(x) ** 2))"
   ]
  },
  {
   "cell_type": "code",
   "execution_count": null,
   "metadata": {},
   "outputs": [],
   "source": [
    "xc = hilbert(x)\n",
    "np.sqrt(np.sum(np.abs(xc[0:N]) ** 2))"
   ]
  },
  {
   "cell_type": "code",
   "execution_count": null,
   "metadata": {},
   "outputs": [],
   "source": [
    "xc2 = hilbert(xc)\n",
    "np.sqrt(np.sum(np.abs(xc2[0:N]) ** 2))"
   ]
  },
  {
   "cell_type": "code",
   "execution_count": null,
   "metadata": {},
   "outputs": [],
   "source": [
    "d = downConvert(x, 0.02 * 2.0 * np.pi)\n",
    "np.sqrt(np.sum(np.abs(d) ** 2))"
   ]
  },
  {
   "cell_type": "code",
   "execution_count": null,
   "metadata": {
    "scrolled": false
   },
   "outputs": [],
   "source": [
    "fig = matplotlib.pyplot.figure(figsize=(9, 5), dpi=100)\n",
    "\n",
    "ax = matplotlib.pyplot.subplot(221)\n",
    "matplotlib.pyplot.plot(n, x.real, label='I')\n",
    "matplotlib.pyplot.plot(n, x.imag, label='Q')\n",
    "matplotlib.pyplot.plot(n, np.abs(x), label='A')\n",
    "matplotlib.pyplot.grid()\n",
    "matplotlib.pyplot.legend(ncol=3)\n",
    "matplotlib.pyplot.ylabel('Amplitude')\n",
    "matplotlib.pyplot.title('Original - Xr')\n",
    "ax.tick_params(labelbottom=False)\n",
    "\n",
    "ax = matplotlib.pyplot.subplot(222)\n",
    "matplotlib.pyplot.plot(n, d.real)\n",
    "matplotlib.pyplot.plot(n, d.imag)\n",
    "matplotlib.pyplot.plot(n, np.abs(d))\n",
    "matplotlib.pyplot.grid()\n",
    "matplotlib.pyplot.title('Down-Converted')\n",
    "ax.tick_params(labelbottom=False)\n",
    "\n",
    "ax = matplotlib.pyplot.subplot(223)\n",
    "matplotlib.pyplot.plot(n, xc.real)\n",
    "matplotlib.pyplot.plot(n, xc.imag)\n",
    "matplotlib.pyplot.plot(n, np.abs(xc))\n",
    "matplotlib.pyplot.grid()\n",
    "matplotlib.pyplot.ylabel('Amplitude')\n",
    "matplotlib.pyplot.xlabel('Sample Index')\n",
    "matplotlib.pyplot.title('Hilbert Generated - Xr\\' + j Xi\\'')\n",
    "\n",
    "ax = matplotlib.pyplot.subplot(224)\n",
    "matplotlib.pyplot.plot(n, xc2.real)\n",
    "matplotlib.pyplot.plot(n, xc2.imag)\n",
    "matplotlib.pyplot.plot(n, np.abs(xc2))\n",
    "matplotlib.pyplot.grid()\n",
    "matplotlib.pyplot.xlabel('Sample Index')\n",
    "matplotlib.pyplot.title('Double Hilbert Generated - Xr\\'\\' + j Xi\\'\\'')"
   ]
  },
  {
   "cell_type": "code",
   "execution_count": null,
   "metadata": {
    "collapsed": true
   },
   "outputs": [],
   "source": []
  }
 ],
 "metadata": {
  "kernelspec": {
   "display_name": "Python 3",
   "language": "python",
   "name": "python3"
  },
  "language_info": {
   "codemirror_mode": {
    "name": "ipython",
    "version": 3
   },
   "file_extension": ".py",
   "mimetype": "text/x-python",
   "name": "python",
   "nbconvert_exporter": "python",
   "pygments_lexer": "ipython3",
   "version": "3.11.4"
  }
 },
 "nbformat": 4,
 "nbformat_minor": 2
}
