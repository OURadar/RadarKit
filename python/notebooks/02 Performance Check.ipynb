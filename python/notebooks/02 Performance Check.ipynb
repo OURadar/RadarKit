{
 "cells": [
  {
   "cell_type": "code",
   "execution_count": 1,
   "metadata": {},
   "outputs": [],
   "source": [
    "%matplotlib inline\n",
    "\n",
    "import ctypes\n",
    "\n",
    "import numpy as np\n",
    "\n",
    "import radarkit"
   ]
  },
  {
   "cell_type": "code",
   "execution_count": 2,
   "metadata": {},
   "outputs": [],
   "source": [
    "def place_RKComplex_array_no_negate(dst, src):\n",
    "    ctypes.memmove(\n",
    "        ctypes.cast(dst, ctypes.POINTER(ctypes.c_float)),\n",
    "        src.flatten().ctypes.data,\n",
    "        src.nbytes,\n",
    "    )\n",
    "\n",
    "def place_RKComplex_array_out_place(dst, src):\n",
    "    src.imag = -src.imag\n",
    "    ctypes.memmove(\n",
    "        ctypes.cast(dst, ctypes.POINTER(ctypes.c_float)),\n",
    "        src.flatten().ctypes.data,\n",
    "        src.nbytes,\n",
    "    )\n",
    "\n",
    "def place_RKComplex_array_in_place(dst, src):\n",
    "    np.conj(src, out=src)\n",
    "    ctypes.memmove(\n",
    "        ctypes.cast(dst, ctypes.POINTER(ctypes.c_float)),\n",
    "        src.flatten().ctypes.data,\n",
    "        src.nbytes,\n",
    "    )"
   ]
  },
  {
   "cell_type": "code",
   "execution_count": 3,
   "metadata": {},
   "outputs": [],
   "source": [
    "pulses = radarkit.RKBuffer()\n",
    "pulseBufferSize = radarkit.RKPulseBufferAlloc(ctypes.byref(pulses), 4096, 10)\n",
    "\n",
    "pulse = radarkit.RKGetPulseFromBuffer(pulses, 1)\n",
    "\n",
    "x = np.random.randn(2300).astype(np.complex64)"
   ]
  },
  {
   "cell_type": "code",
   "execution_count": 4,
   "metadata": {},
   "outputs": [
    {
     "name": "stdout",
     "output_type": "stream",
     "text": [
      "3.02 µs ± 19.4 ns per loop (mean ± std. dev. of 7 runs, 100,000 loops each)\n",
      "4.93 µs ± 35.8 ns per loop (mean ± std. dev. of 7 runs, 100,000 loops each)\n",
      "3.63 µs ± 45.7 ns per loop (mean ± std. dev. of 7 runs, 100,000 loops each)\n"
     ]
    }
   ],
   "source": [
    "%timeit place_RKComplex_array_no_negate(radarkit.RKGetComplexDataFromPulse(pulse, 0), x)\n",
    "%timeit place_RKComplex_array_out_place(radarkit.RKGetComplexDataFromPulse(pulse, 0), x)\n",
    "%timeit place_RKComplex_array_in_place(radarkit.RKGetComplexDataFromPulse(pulse, 0), x)"
   ]
  },
  {
   "cell_type": "code",
   "execution_count": 5,
   "metadata": {},
   "outputs": [],
   "source": [
    "def read_RKComplex_from_pulse(pulse, count):\n",
    "    h = ctypes.cast(radarkit.RKGetComplexDataFromPulse(pulse, 0), ctypes.POINTER(ctypes.c_float))\n",
    "    h = np.ctypeslib.as_array(h, (count * 2,)).view(np.complex64)\n",
    "    v = ctypes.cast(radarkit.RKGetComplexDataFromPulse(pulse, 1), ctypes.POINTER(ctypes.c_float))\n",
    "    v = np.ctypeslib.as_array(v, (count * 2,)).view(np.complex64)\n",
    "    x = np.vstack((h, v))\n",
    "    np.conj(x, out=x)\n",
    "    return x\n",
    "\n",
    "\n",
    "def read_RKComplex_from_pulse_v2(pulse, count):\n",
    "    _from_mem = ctypes.pythonapi.PyMemoryView_FromMemory\n",
    "    _from_mem.restype = ctypes.py_object\n",
    "    h = np.frombuffer(_from_mem(radarkit.RKGetComplexDataFromPulse(pulse, 0), 8*count), dtype=np.complex64)\n",
    "    v = np.frombuffer(_from_mem(radarkit.RKGetComplexDataFromPulse(pulse, 1), 8*count), dtype=np.complex64)\n",
    "    x = np.vstack((h, v))\n",
    "    np.conj(x, out=x)\n",
    "    return x"
   ]
  },
  {
   "cell_type": "code",
   "execution_count": 6,
   "metadata": {},
   "outputs": [],
   "source": [
    "place_RKComplex_array_in_place(radarkit.RKGetComplexDataFromPulse(pulse, 0), x)"
   ]
  },
  {
   "cell_type": "code",
   "execution_count": 7,
   "metadata": {},
   "outputs": [
    {
     "name": "stdout",
     "output_type": "stream",
     "text": [
      "8.36 µs ± 59 ns per loop (mean ± std. dev. of 7 runs, 100,000 loops each)\n",
      "5.29 µs ± 359 ns per loop (mean ± std. dev. of 7 runs, 100,000 loops each)\n"
     ]
    }
   ],
   "source": [
    "%timeit y = read_RKComplex_from_pulse(pulse, 2300)\n",
    "%timeit y = read_RKComplex_from_pulse_v2(pulse, 2300)"
   ]
  },
  {
   "cell_type": "code",
   "execution_count": null,
   "metadata": {},
   "outputs": [],
   "source": []
  }
 ],
 "metadata": {
  "kernelspec": {
   "display_name": "Python 3",
   "language": "python",
   "name": "python3"
  },
  "language_info": {
   "codemirror_mode": {
    "name": "ipython",
    "version": 3
   },
   "file_extension": ".py",
   "mimetype": "text/x-python",
   "name": "python",
   "nbconvert_exporter": "python",
   "pygments_lexer": "ipython3",
   "version": "3.11.4"
  }
 },
 "nbformat": 4,
 "nbformat_minor": 2
}
