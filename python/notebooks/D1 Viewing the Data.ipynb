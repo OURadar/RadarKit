{
 "cells": [
  {
   "cell_type": "markdown",
   "metadata": {},
   "source": [
    "# Viewing the Data"
   ]
  },
  {
   "cell_type": "code",
   "execution_count": null,
   "metadata": {},
   "outputs": [],
   "source": [
    "%matplotlib inline\n",
    "\n",
    "import os\n",
    "import glob\n",
    "import importlib\n",
    "import matplotlib.pyplot as plt\n",
    "plt.ioff()\n",
    "\n",
    "import blib\n",
    "blib.useTheme(\"dark\")\n",
    "\n",
    "import src.radarkit as radarkit\n",
    "import src.radarkit.chart"
   ]
  },
  {
   "cell_type": "markdown",
   "metadata": {},
   "source": [
    "# RHI"
   ]
  },
  {
   "cell_type": "code",
   "execution_count": null,
   "metadata": {},
   "outputs": [],
   "source": [
    "# files = sorted(glob.glob(\"data/moment/20231004/*.xz\"))\n",
    "files = glob.glob('data/moment/20230511/*-Z.nc')\n",
    "assert len(files) > 0, \"No files found\"\n",
    "file = files[0]\n",
    "print(f\"Selected file {file}\")"
   ]
  },
  {
   "cell_type": "code",
   "execution_count": null,
   "metadata": {},
   "outputs": [],
   "source": [
    "sweep = radarkit.sweep.Sweep(file)\n",
    "\n",
    "# rhi = radarkit.chart.ChartRHI()\n",
    "# rhi = radarkit.chart.ChartRHI((1920, 1080), s=1.5)\n",
    "rhi = radarkit.chart.ChartRHI(size=(2560, 1440), s=2.0)\n",
    "rhi.set_data(sweep)\n",
    "# rhi.fig"
   ]
  },
  {
   "cell_type": "markdown",
   "metadata": {},
   "source": [
    "# PPI"
   ]
  },
  {
   "cell_type": "code",
   "execution_count": null,
   "metadata": {},
   "outputs": [],
   "source": [
    "files = sorted(glob.glob(\"data/moment/20230130/*-Z.nc\"))\n",
    "assert len(files) > 0, \"No files found\"\n",
    "file = files[0]\n",
    "print(f\"Selected file {file}\")"
   ]
  },
  {
   "cell_type": "code",
   "execution_count": null,
   "metadata": {},
   "outputs": [],
   "source": [
    "sweep = radarkit.sweep.Sweep(file)\n",
    "\n",
    "ppi = radarkit.chart.ChartPPI((1920, 1080), titlecolor=\"steelblue\")\n",
    "# ppi = radarkit.chart.ChartPPI()\n",
    "ppi.set_data(sweep)\n",
    "# ppi.fig"
   ]
  },
  {
   "cell_type": "code",
   "execution_count": null,
   "metadata": {},
   "outputs": [],
   "source": [
    "# sweep = radarkit.sweep.Sweep(file)\n",
    "# ppi.set_data(sweep)\n",
    "\n",
    "# origin = (sweep.longitude, sweep.latitude)\n",
    "# aspect = ppi.ax[0].bbox.height / ppi.ax[0].bbox.width\n",
    "# max_range = sweep.meshCoordinate.r[-1]\n",
    "# extent = (-max_range, -max_range * aspect, max_range, max_range * aspect)"
   ]
  },
  {
   "cell_type": "code",
   "execution_count": null,
   "metadata": {},
   "outputs": [],
   "source": [
    "# ppi.set(\"\")\n",
    "# ppi.set(rmax=50)\n",
    "# ppi.set_rmax(40)"
   ]
  },
  {
   "cell_type": "code",
   "execution_count": null,
   "metadata": {},
   "outputs": [],
   "source": [
    "# rhi.fig.savefig(os.path.expanduser(\"~/Downloads/rhi.png\"))\n",
    "# ppi.fig.savefig(os.path.expanduser(\"~/Downloads/ppi.png\"))"
   ]
  },
  {
   "cell_type": "code",
   "execution_count": null,
   "metadata": {},
   "outputs": [],
   "source": [
    "# plt.close(\"all\")\n",
    "\n",
    "# chart = importlib.reload(chart)\n",
    "# chart.overlay = importlib.reload(chart.overlay)"
   ]
  },
  {
   "cell_type": "code",
   "execution_count": null,
   "metadata": {},
   "outputs": [],
   "source": [
    "plt.show()"
   ]
  },
  {
   "cell_type": "code",
   "execution_count": null,
   "metadata": {},
   "outputs": [],
   "source": []
  }
 ],
 "metadata": {
  "kernelspec": {
   "display_name": "Python 3",
   "language": "python",
   "name": "python3"
  },
  "language_info": {
   "codemirror_mode": {
    "name": "ipython",
    "version": 3
   },
   "file_extension": ".py",
   "mimetype": "text/x-python",
   "name": "python",
   "nbconvert_exporter": "python",
   "pygments_lexer": "ipython3",
   "version": "3.11.4"
  }
 },
 "nbformat": 4,
 "nbformat_minor": 2
}
