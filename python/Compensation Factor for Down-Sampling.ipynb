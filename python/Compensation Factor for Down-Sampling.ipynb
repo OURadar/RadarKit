{
 "cells": [
  {
   "cell_type": "markdown",
   "metadata": {},
   "source": [
    "## Compensation Factor for Down-Sampling\n",
    "\n",
    "During the sub-sampling sampling process, the origin input seqeuence `x` is taken at every `M` samples apart to construct `xd`. The corresponding filter also needs to go through the same sub-sampling procedure. Because of the unity noise gain filter normalization, the output sequence `yd` is inherently attenuated. So, the output must be compensated by a factor of `sqrt(M)` in order to make down-sampled array data to have same magnitude.\n",
    "\n",
    "```python\n",
    "    yd = np.convolve(xd, wd)[int(N/M)-1:] * np.sqrt(M)\n",
    "```\n",
    "\n",
    "where a compensation factor of `sqrt(M)` is appended so that the results will have each gate showing the proper values."
   ]
  },
  {
   "cell_type": "code",
   "execution_count": 1,
   "metadata": {
    "collapsed": true
   },
   "outputs": [],
   "source": [
    "%matplotlib inline\n",
    "import numpy as np"
   ]
  },
  {
   "cell_type": "code",
   "execution_count": 2,
   "metadata": {
    "collapsed": true
   },
   "outputs": [],
   "source": [
    "# A convenient function to show the array values\n",
    "def showArray(y):\n",
    "    print(np.array2string(y, formatter={'float_kind':'{0:.1f}'.format}).replace('0.0', ' . '))"
   ]
  },
  {
   "cell_type": "code",
   "execution_count": 3,
   "metadata": {},
   "outputs": [],
   "source": [
    "N = 8\n",
    "x = np.hstack([np.ones((1, N)), np.zeros((1, N))]).squeeze();\n",
    "w = np.ones((1, N)).squeeze()\n",
    "w = w / np.sqrt(np.sum(w ** 2))"
   ]
  },
  {
   "cell_type": "code",
   "execution_count": 4,
   "metadata": {},
   "outputs": [],
   "source": [
    "# x = x.transpose()\n",
    "# w = w.transpose()\n",
    "y = np.convolve(x, w)[N-1:]"
   ]
  },
  {
   "cell_type": "code",
   "execution_count": 5,
   "metadata": {},
   "outputs": [
    {
     "name": "stdout",
     "output_type": "stream",
     "text": [
      "[2.8 2.5 2.1 1.8 1.4 1.1 0.7 0.4  .   .   .   .   .   .   .   . ]\n",
      "[2.8  .  2.1  .  1.4  .  0.7  .   .   .   .   .   .   .   .   . ]\n",
      "[2.8  .   .   .  1.4  .   .   .   .   .   .   .   .   .   .   . ]\n",
      "[2.8  .   .   .   .   .   .   .   .   .   .   .   .   .   .   . ]\n"
     ]
    }
   ],
   "source": [
    "showArray(y)\n",
    "\n",
    "for M in [2, 4, 8]:\n",
    "    xd = x[M-1::M]\n",
    "    wd = w[M-1::M]\n",
    "    wd = wd / np.sqrt(np.sum(wd ** 2))\n",
    "    # Noise amplitude remains the same at this point\n",
    "    K = int(N / M)\n",
    "    yd = np.convolve(xd, wd)[K-1:] * np.sqrt(M)\n",
    "    # Noise is scaled by sqrt(M) but the SNR remains the same\n",
    "    dup = np.zeros((1,M)).squeeze()\n",
    "    dup[0] = 1.0\n",
    "    showArray(np.kron(yd, dup))"
   ]
  },
  {
   "cell_type": "code",
   "execution_count": null,
   "metadata": {
    "collapsed": true
   },
   "outputs": [],
   "source": []
  }
 ],
 "metadata": {
  "kernelspec": {
   "display_name": "Python 3",
   "language": "python",
   "name": "python3"
  },
  "language_info": {
   "codemirror_mode": {
    "name": "ipython",
    "version": 3
   },
   "file_extension": ".py",
   "mimetype": "text/x-python",
   "name": "python",
   "nbconvert_exporter": "python",
   "pygments_lexer": "ipython3",
   "version": "3.6.4"
  }
 },
 "nbformat": 4,
 "nbformat_minor": 2
}
