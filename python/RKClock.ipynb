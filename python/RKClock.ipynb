{
 "cells": [
  {
   "cell_type": "code",
   "execution_count": null,
   "metadata": {},
   "outputs": [],
   "source": [
    "%matplotlib inline\n",
    "%pylab inline"
   ]
  },
  {
   "cell_type": "code",
   "execution_count": null,
   "metadata": {
    "collapsed": true
   },
   "outputs": [],
   "source": [
    "matplotlib.rcParams['font.family'] = 'serif'\n",
    "matplotlib.rcParams['font.serif'] = ['Arial']\n",
    "matplotlib.rcParams['font.sans-serif'] = ['System Font', 'Verdana', 'Arial']\n",
    "matplotlib.rcParams['figure.figsize'] = (7, 3)   # Change the size of plots\n",
    "matplotlib.rcParams['figure.dpi'] = 108"
   ]
  },
  {
   "cell_type": "code",
   "execution_count": null,
   "metadata": {
    "collapsed": true
   },
   "outputs": [],
   "source": [
    "import numpy as np\n",
    "import numpy.matlib"
   ]
  },
  {
   "cell_type": "code",
   "execution_count": null,
   "metadata": {},
   "outputs": [],
   "source": [
    "# Time interval between readings\n",
    "d = 1.0 / 5000.0\n",
    "# Stride size of the running window\n",
    "M = 2000\n",
    "N = 2000\n",
    "# Time-series data usually come in chunks\n",
    "chunk_size = 16\n",
    "\n",
    "# A scaling constant of the clean reference\n",
    "tics_per_second = 1000000\n",
    "\n",
    "# Have the time-series to be at least X seconds\n",
    "K = int(floor(max(5 * N, round(1.0 / d)) / chunk_size / 2) * chunk_size * 2)\n",
    "\n",
    "# Emulate staggered PRT: 2, 3, 2, 3, ...\n",
    "y = np.cumsum(np.kron(np.ones(int(K / 2), ), [2, 3])) * (0.5 * d)\n",
    "\n",
    "# Clean reference of tic count\n",
    "u = (y + 19760520) * tics_per_second\n",
    "\n",
    "# Time in double with an arbitrary offset\n",
    "y = y + 7000.0\n",
    "\n",
    "# Add noise to x, on the orders of milliseconds\n",
    "# x = y + 10.0e-3 * (np.random.random(y.shape) - 0.5)\n",
    "L = round(K / chunk_size, )\n",
    "jitter = np.kron(0.5e-3 * (np.random.random(L, ) - 0.5), np.ones(chunk_size, ))\n",
    "burst = np.kron(np.ones(L, ), np.linspace(0, 0.05e-3, chunk_size))\n",
    "\n",
    "x = y + jitter + burst"
   ]
  },
  {
   "cell_type": "code",
   "execution_count": null,
   "metadata": {},
   "outputs": [],
   "source": [
    "N = 256\n",
    "matplotlib.pyplot.plot(noise[:N], label='Jitter')\n",
    "matplotlib.pyplot.plot(burst[:N], label='Burst')\n",
    "matplotlib.pyplot.xlim([0, N])\n",
    "matplotlib.pyplot.legend()\n",
    "matplotlib.pyplot.grid()"
   ]
  },
  {
   "cell_type": "code",
   "execution_count": null,
   "metadata": {
    "collapsed": true
   },
   "outputs": [],
   "source": [
    "h_x0 = np.ones(x.shape) * np.nan\n",
    "h_u0 = np.ones(x.shape) * np.nan\n",
    "h_dx = np.ones(x.shape) * np.nan\n",
    "t = np.ones(x.shape) * np.nan\n",
    "b = 1.0 / M\n",
    "a = 1.0 - b\n",
    "\n",
    "# Block size\n",
    "L = 16\n",
    "\n",
    "for i in range(2, len(x)):\n",
    "    if i < N:\n",
    "        dx_du = (x[i] - x[0]) / (u[i] - u[0])\n",
    "    else:\n",
    "        dx_du = (x[i] - x[i - N]) / (u[i] - u[i - N])\n",
    "    if i <= L:\n",
    "        x0 = x[i]\n",
    "        u0 = (u[i] - u[0]) / i + u[0]\n",
    "        dx = a * (x[i - 1] - x[0]) / (u[i - 1] - u[0]) + b * dx_du\n",
    "    else:  \n",
    "        x0 = a * x0 + b * x[i]\n",
    "        u0 = a * u0 + b * u[i]\n",
    "        dx = a * dx + b * dx_du\n",
    "    t[i] = x0 + dx * (u[i] - u0)\n",
    "    # Keep a history\n",
    "    h_dx[i] = dx\n",
    "    h_x0[i] = x0\n",
    "    h_u0[i] = u0\n",
    "    \n",
    "# For plotting, set the beginning t values to be nice\n",
    "t[1] = t[2] - d\n",
    "t[0] = t[1] - d"
   ]
  },
  {
   "cell_type": "code",
   "execution_count": null,
   "metadata": {},
   "outputs": [],
   "source": [
    "fig = matplotlib.pyplot.figure(figsize=(11, 6))\n",
    "\n",
    "xx = y - y[0]\n",
    "\n",
    "ax1 = fig.add_subplot(221)\n",
    "h1 = ax1.plot(xx, 1.0e3 * (t - y), '-m')\n",
    "ax1.grid()\n",
    "ax1.text(y[-1] - y[0], 1.3, 'M = {}, N = {}'.format(M, N), ha='right')\n",
    "matplotlib.pyplot.ylabel('Time Error (ms)')\n",
    "matplotlib.pyplot.ylim([-3.0, 3.0])\n",
    "ax1b = ax1.twinx()\n",
    "# h2 = ax1b.plot(xx, (u - h_u0) * 1.0e-6 / M, 'g')\n",
    "h2 = ax1b.plot(xx, (u - h_u0) * 1.0e-6 * d * M, 'g')\n",
    "# matplotlib.pyplot.ylim([0, 1.0e9])\n",
    "ax1b.legend(h1 + h2, ['Time', 'Reference'], loc=4)\n",
    "matplotlib.pyplot.title('Accuracy of Time & Reference')\n",
    "\n",
    "ax2 = fig.add_subplot(222)\n",
    "ax2.plot(xx, h_dx, label='Estimate')\n",
    "ax2.plot([xx[0], xx[-1]], np.array([1.0, 1.0]), '--', label='True dx / du')\n",
    "ax2.grid()\n",
    "ax2.legend()\n",
    "# matplotlib.pyplot.ylim(np.array([0.99, 1.01]))\n",
    "matplotlib.pyplot.title('Time History of dx / du')\n",
    "\n",
    "ax3 = fig.add_subplot(223)\n",
    "h31 = ax3.plot(y - y[0], (h_u0 + tics_per_second * M))\n",
    "h32 = ax3.plot([0, K * d], np.array([u[0], u[-1]]), '--')\n",
    "ax3.grid()\n",
    "ax3.legend(h31 + h32, ['Estimate', 'True u0'])\n",
    "\n",
    "ax4 = fig.add_subplot(224)\n",
    "h41 = ax4.plot(y - y[0], h_x0 - 7000.0 + d * M)\n",
    "h42 = ax4.plot([0, K * d], [0, K * d], '--')\n",
    "ax4.grid()\n",
    "ax4.legend(h41 + h42, ['Estimate', 'True x0'])"
   ]
  },
  {
   "cell_type": "code",
   "execution_count": null,
   "metadata": {
    "collapsed": true
   },
   "outputs": [],
   "source": [
    "fig.savefig('/Users/boonleng/Desktop/M{0:02.0f}-N{1:02.0f}.png'.format(1.0e-3 * M, 1.0e-3 * N))"
   ]
  },
  {
   "cell_type": "code",
   "execution_count": null,
   "metadata": {},
   "outputs": [],
   "source": [
    "fig = matplotlib.pyplot.figure(figsize=(11, 3))\n",
    "h1 = matplotlib.pyplot.plot(y[1:] - y[0], 1.0e3 * np.diff(y), '-o', label='Noisy Time')\n",
    "h2 = matplotlib.pyplot.plot(y[2:] - y[0], 1.0e3 * np.diff(t)[1:], '-o', label='Pred. Time')\n",
    "matplotlib.pyplot.grid()\n",
    "matplotlib.pyplot.legend()\n",
    "matplotlib.pyplot.title('Time History of Noisy Arrival Time and Predicted Time')\n",
    "matplotlib.pyplot.xlim(np.array([0.001, 0.01]) + 1)\n",
    "matplotlib.pyplot.ylim(np.array([-0.1, 1]))\n",
    "\n",
    "print('Original jitter =', np.std(np.diff(x[-N:])) * 1.0e3, ' ms')\n",
    "print('Smoothed jitter =', np.std(np.diff(t[-N:])) * 1.0e3, ' ms')"
   ]
  },
  {
   "cell_type": "code",
   "execution_count": null,
   "metadata": {},
   "outputs": [],
   "source": [
    "np.diff(u[:10]) * 1e-6"
   ]
  },
  {
   "cell_type": "code",
   "execution_count": null,
   "metadata": {
    "collapsed": true
   },
   "outputs": [],
   "source": []
  }
 ],
 "metadata": {
  "kernelspec": {
   "display_name": "Python 3",
   "language": "python",
   "name": "python3"
  },
  "language_info": {
   "codemirror_mode": {
    "name": "ipython",
    "version": 3
   },
   "file_extension": ".py",
   "mimetype": "text/x-python",
   "name": "python",
   "nbconvert_exporter": "python",
   "pygments_lexer": "ipython3",
   "version": "3.6.1"
  }
 },
 "nbformat": 4,
 "nbformat_minor": 2
}
