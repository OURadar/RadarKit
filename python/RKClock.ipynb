{
 "cells": [
  {
   "cell_type": "code",
   "execution_count": null,
   "metadata": {},
   "outputs": [],
   "source": [
    "%pylab inline\n",
    "%matplotlib inline"
   ]
  },
  {
   "cell_type": "code",
   "execution_count": null,
   "metadata": {
    "collapsed": true
   },
   "outputs": [],
   "source": [
    "import os\n",
    "import numpy as np\n",
    "import numpy.matlib"
   ]
  },
  {
   "cell_type": "code",
   "execution_count": null,
   "metadata": {
    "collapsed": true
   },
   "outputs": [],
   "source": [
    "matplotlib.rcParams['font.family'] = 'serif'\n",
    "matplotlib.rcParams['font.serif'] = ['Arial']\n",
    "matplotlib.rcParams['font.sans-serif'] = ['System Font', 'Verdana', 'Arial']\n",
    "matplotlib.rcParams['figure.figsize'] = (7, 3)   # Change the size of plots\n",
    "matplotlib.rcParams['figure.dpi'] = 108"
   ]
  },
  {
   "cell_type": "code",
   "execution_count": null,
   "metadata": {},
   "outputs": [],
   "source": [
    "def proc(x, M, N):\n",
    "    h_x0 = np.ones(x.shape) * np.nan\n",
    "    h_u0 = np.ones(x.shape) * np.nan\n",
    "    h_dx = np.ones(x.shape) * np.nan\n",
    "    y = np.ones(x.shape) * np.nan\n",
    "    b = 1.0 / M\n",
    "    a = 1.0 - b\n",
    "\n",
    "    u0 = 0\n",
    "    x0 = 0\n",
    "    dx = 0\n",
    "    for i in range(2, len(x)):\n",
    "        if i < N:\n",
    "            if i % 2 == 0:\n",
    "                x0 = np.mean(x[:i])\n",
    "                u0 = np.mean(u[:i])\n",
    "#             if i < N / 8:\n",
    "#                 dx = (x[i] - x[0]) / (u[i] - u[0])\n",
    "#             elif i < N / 4:\n",
    "#                 dx = 0.95 * dx + 0.05 * (x[i] - x[0]) / (u[i] - u[0])\n",
    "#             elif i < N / 2:\n",
    "#                 dx = 0.97 * dx + 0.03 * (x[i] - x[0]) / (u[i] - u[0])\n",
    "#             else:\n",
    "#                 dx = 0.99 * dx + 0.01 * (x[i] - x[0]) / (u[i] - u[0])\n",
    "                dx = (x[i] - x[0]) / (u[i] - u[0])\n",
    "        else:\n",
    "            if i % 2 == 0:\n",
    "                x0 = np.mean(x[i - N : i])\n",
    "                u0 = np.mean(u[i - N : i])\n",
    "            dx = a * dx + b * (x[i] - x[i - N]) / (u[i] - u[i - N])\n",
    "\n",
    "        y[i] = x0 + dx * (u[i] - u0)\n",
    "        # Keep a history\n",
    "        h_x0[i] = x0\n",
    "        h_u0[i] = u0\n",
    "        h_dx[i] = dx\n",
    "\n",
    "    # For plotting, set the beginning t values to be nice\n",
    "    y[1] = y[2] - (y[4] - y[3])\n",
    "    y[0] = y[1] - (y[3] - y[2])\n",
    "    \n",
    "    return y, h_x0, h_u0, h_dx"
   ]
  },
  {
   "cell_type": "code",
   "execution_count": null,
   "metadata": {
    "collapsed": true
   },
   "outputs": [],
   "source": [
    "def showChart(y, h_x0, h_u0, h_dx):\n",
    "    fig = matplotlib.pyplot.figure(figsize=(11, 6))\n",
    "\n",
    "    tt = t - t[0]\n",
    "\n",
    "    ax1 = fig.add_subplot(221)\n",
    "    h1 = ax1.plot(tt, 1.0e3 * (y - t), '-g')\n",
    "    ax1.grid()\n",
    "    ax1.text(t[-1] - t[0], 1.3, 'M = {}, N = {}'.format(M, N), ha='right')\n",
    "    matplotlib.pyplot.ylabel('Time Error (ms)')\n",
    "    matplotlib.pyplot.ylim([-3.0, 3.0])\n",
    "\n",
    "    ax2 = fig.add_subplot(222)\n",
    "    ax2.plot(tt, h_dx * tics_per_second, label='Estimate')\n",
    "    ax2.plot(tt[[0, -1]], np.array([1.0, 1.0]), '--', label='True dx / du')\n",
    "    ax2.grid()\n",
    "    ax2.legend()\n",
    "    matplotlib.pyplot.ylim([0.999, 1.001])\n",
    "    matplotlib.pyplot.title('Time History of dx / du')\n",
    "\n",
    "    ax3 = fig.add_subplot(223)\n",
    "    h31 = ax3.plot(tt, (h_u0 - h_u0[-1] + u[-1]) / tics_per_second)\n",
    "    h32 = ax3.plot(tt[[0, -1]], (u[[0, -1]]) / tics_per_second, '--')\n",
    "    ax3.grid()\n",
    "    ax3.legend(h31 + h32, ['Estimate', 'True u0 (slope)'])\n",
    "\n",
    "    ax4 = fig.add_subplot(224)\n",
    "    h41 = ax4.plot(tt, h_x0 - h_x0[-1] + tt[-1])\n",
    "    h42 = ax4.plot(tt[[0, -1]], tt[[0, -1]], '--')\n",
    "    ax4.grid()\n",
    "    ax4.legend(h41 + h42, ['Estimate', 'True x0 (slope)'])\n",
    "\n",
    "    return fig"
   ]
  },
  {
   "cell_type": "code",
   "execution_count": null,
   "metadata": {
    "collapsed": true
   },
   "outputs": [],
   "source": [
    "# Unit time\n",
    "d = 1.0 / 2000.0\n",
    "\n",
    "# Time-series data usually come in chunks\n",
    "chunk_size = 8\n",
    "\n",
    "# A scaling constant of the clean reference\n",
    "tics_per_second = 1000000\n",
    "\n",
    "# Have the time-series to be at least X seconds\n",
    "K = int(10.0 / d / chunk_size / 2) * chunk_size * 2\n",
    "\n",
    "# Emulate staggered PRT: 2, 3, 2, 3, ... (ms)\n",
    "s = np.cumsum(np.kron(np.ones(int(K / 2), ), [2, 3])) * d\n",
    "\n",
    "# Emulate uniform PRT: 1, 1, 1, ... (ms)\n",
    "# s = np.cumsum(np.ones(K, )) * d\n",
    "\n",
    "# Clean reference of tic count\n",
    "u_orig = 19760520\n",
    "u = (s + u_orig) * tics_per_second\n",
    "\n",
    "# Time in double with an arbitrary offset\n",
    "t_orig = 7000.0\n",
    "t = s + t_orig\n",
    "\n",
    "# Add noise to x, on the orders of milliseconds\n",
    "L = round(K / chunk_size, )\n",
    "jitter = np.kron(1.0e-3 * (np.random.rand(L, ) - 0.5), np.ones(chunk_size, ))\n",
    "burst = np.kron(np.ones(L, ), np.linspace(0, 0.02e-3, chunk_size) - 0.01e-3)\n",
    "\n",
    "x_orig = t_orig\n",
    "x = t + jitter + burst"
   ]
  },
  {
   "cell_type": "raw",
   "metadata": {},
   "source": [
    "L = 256\n",
    "matplotlib.pyplot.plot(1.0e3 * jitter[:L], label='Jitter')\n",
    "matplotlib.pyplot.plot(1.0e3 * burst[:L], label='Burst')\n",
    "matplotlib.pyplot.xlim([0, L])\n",
    "matplotlib.pyplot.legend()\n",
    "matplotlib.pyplot.grid()\n",
    "matplotlib.pyplot.xlabel('Sample Index')\n",
    "matplotlib.pyplot.ylabel('Amplitude (ms)')"
   ]
  },
  {
   "cell_type": "code",
   "execution_count": null,
   "metadata": {},
   "outputs": [],
   "source": [
    "# Stride size of the running window\n",
    "M = 2048\n",
    "N = 2048\n",
    "\n",
    "# for M in [1000, 2000, 5000, 10000]:\n",
    "y, h_x0, h_u0, h_dx = proc(x, M, N)\n",
    "fig = showChart(y, h_x0, h_u0, h_dx)\n",
    "# fig.savefig(os.environ['HOME'] + '/Desktop/m{0:02.0f}-n{1:02.0f}.png'.format(M / 1000, N / 1000))"
   ]
  },
  {
   "cell_type": "code",
   "execution_count": null,
   "metadata": {},
   "outputs": [],
   "source": [
    "O = int(0.0 / ((2 + 3) * d) * 2)\n",
    "L = 3000\n",
    "\n",
    "ts1 = 1.0e3 * (x[O : O + L] - t[O : O + L])\n",
    "ts2 = 1.0e3 * (y[O : O + L] - t[O : O + L])\n",
    "\n",
    "print('Original jitter =', np.std(np.diff(ts1)), ' ms')\n",
    "print('Smoothed jitter =', np.std(np.diff(ts2)), ' ms')\n",
    "\n",
    "tt = t[O : O + L] - t_orig\n",
    "\n",
    "fig = matplotlib.pyplot.figure(figsize=(11, 7))\n",
    "matplotlib.pyplot.subplot(211)\n",
    "matplotlib.pyplot.plot(tt, ts1, color='#44aaee', label='Raw Time')\n",
    "matplotlib.pyplot.plot(tt, ts2, 'g', label='Predicted Time')\n",
    "matplotlib.pyplot.grid()\n",
    "matplotlib.pyplot.legend()\n",
    "matplotlib.pyplot.plot(tt[[int(N/8), int(N/8)]], [-0.6, 0.6], '--', color='#aa3333', label='S1')\n",
    "matplotlib.pyplot.plot(tt[[int(N/4), int(N/4)]], [-0.6, 0.6], '--', color='#aa3333', label='S2')\n",
    "matplotlib.pyplot.plot(tt[[int(N/2), int(N/2)]], [-0.6, 0.6], '--', color='#aa3333', label='S3')\n",
    "matplotlib.pyplot.plot(tt[[N, N]], [-0.6, 0.6], '--', color='#aa3333', label='S3')\n",
    "matplotlib.pyplot.ylabel('Time Error (ms)')\n",
    "matplotlib.pyplot.title('Raw Clock Difference (x - t) and Predicted Time Difference (y - t)')\n",
    "\n",
    "matplotlib.pyplot.subplot(212)\n",
    "matplotlib.pyplot.plot(tt[:L], h_dx[:L] * 1e6, color='#7755dd')\n",
    "matplotlib.pyplot.grid()\n",
    "matplotlib.pyplot.xlabel('Time (s)')\n",
    "matplotlib.pyplot.ylabel('du/dx (MT/s)')"
   ]
  },
  {
   "cell_type": "code",
   "execution_count": null,
   "metadata": {},
   "outputs": [],
   "source": [
    "matplotlib.pyplot.plot(np.diff(t[-50:]))\n",
    "matplotlib.pyplot.plot(np.diff(y[-50:]))\n",
    "matplotlib.pyplot.grid()\n",
    "matplotlib.pyplot.ylim([0.25 * d, 4.0 * d])"
   ]
  },
  {
   "cell_type": "code",
   "execution_count": null,
   "metadata": {
    "collapsed": true
   },
   "outputs": [],
   "source": []
  }
 ],
 "metadata": {
  "kernelspec": {
   "display_name": "Python 3",
   "language": "python",
   "name": "python3"
  },
  "language_info": {
   "codemirror_mode": {
    "name": "ipython",
    "version": 3
   },
   "file_extension": ".py",
   "mimetype": "text/x-python",
   "name": "python",
   "nbconvert_exporter": "python",
   "pygments_lexer": "ipython3",
   "version": "3.6.1"
  }
 },
 "nbformat": 4,
 "nbformat_minor": 2
}
