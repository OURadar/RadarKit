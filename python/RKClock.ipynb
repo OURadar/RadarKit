{
 "cells": [
  {
   "cell_type": "code",
   "execution_count": null,
   "metadata": {},
   "outputs": [],
   "source": [
    "%matplotlib inline\n",
    "%pylab inline"
   ]
  },
  {
   "cell_type": "code",
   "execution_count": null,
   "metadata": {
    "collapsed": true
   },
   "outputs": [],
   "source": [
    "matplotlib.rcParams['font.family'] = 'serif'\n",
    "matplotlib.rcParams['font.serif'] = ['Arial']\n",
    "matplotlib.rcParams['font.sans-serif'] = ['System Font', 'Verdana', 'Arial']\n",
    "matplotlib.rcParams['figure.figsize'] = (7, 3)   # Change the size of plots\n",
    "matplotlib.rcParams['figure.dpi'] = 108"
   ]
  },
  {
   "cell_type": "code",
   "execution_count": null,
   "metadata": {
    "collapsed": true
   },
   "outputs": [],
   "source": [
    "import os\n",
    "import numpy as np\n",
    "import numpy.matlib"
   ]
  },
  {
   "cell_type": "code",
   "execution_count": null,
   "metadata": {
    "collapsed": true
   },
   "outputs": [],
   "source": [
    "# Time interval between readings\n",
    "d = 1.0 / 5000.0\n",
    "\n",
    "# Time-series data usually come in chunks\n",
    "chunk_size = 8\n",
    "\n",
    "# A scaling constant of the clean reference\n",
    "tics_per_second = 1000000\n",
    "\n",
    "# Have the time-series to be at least X seconds\n",
    "K = int(8.0 / d / chunk_size / 2) * chunk_size * 2\n",
    "\n",
    "# Emulate staggered PRT: 2, 3, 2, 3, ...\n",
    "y = np.cumsum(np.kron(np.ones(int(K / 2), ), [2, 3])) * (0.5 * d)\n",
    "\n",
    "# Clean reference of tic count\n",
    "u_orig = 19760520\n",
    "u = (y + u_orig) * tics_per_second\n",
    "\n",
    "# Time in double with an arbitrary offset\n",
    "y_orig = 7000.0\n",
    "y = y + y_orig\n",
    "\n",
    "# Add noise to x, on the orders of milliseconds\n",
    "L = round(K / chunk_size, )\n",
    "jitter = np.kron(0.5e-3 * (np.random.random(L, ) - 0.5), np.ones(chunk_size, ))\n",
    "burst = np.kron(np.ones(L, ), np.linspace(0, 0.05e-3, chunk_size) - 0.025e-3)\n",
    "\n",
    "x_orig = y_orig\n",
    "x = y + jitter + burst"
   ]
  },
  {
   "cell_type": "code",
   "execution_count": null,
   "metadata": {},
   "outputs": [],
   "source": [
    "L = 256\n",
    "matplotlib.pyplot.plot(1.0e3 * jitter[:L], label='Jitter')\n",
    "matplotlib.pyplot.plot(1.0e3 * burst[:L], label='Burst')\n",
    "matplotlib.pyplot.xlim([0, L])\n",
    "matplotlib.pyplot.legend()\n",
    "matplotlib.pyplot.grid()\n",
    "matplotlib.pyplot.xlabel('Sample Index')\n",
    "matplotlib.pyplot.ylabel('Amplitude (ms)')"
   ]
  },
  {
   "cell_type": "code",
   "execution_count": null,
   "metadata": {},
   "outputs": [],
   "source": [
    "def sim(x, M, N):\n",
    "    h_x0 = np.ones(x.shape) * np.nan\n",
    "    h_u0 = np.ones(x.shape) * np.nan\n",
    "    h_dx = np.ones(x.shape) * np.nan\n",
    "    t = np.ones(x.shape) * np.nan\n",
    "    b = 1.0 / M\n",
    "    a = 1.0 - b\n",
    "\n",
    "    for i in range(2, len(x)):\n",
    "        if i < N:\n",
    "            if i % 2 == 0:\n",
    "                x0 = np.mean(x[:i])\n",
    "                u0 = np.mean(u[:i])\n",
    "            dx = (x[i] - x[0]) / (u[i] - u[0])\n",
    "        else:\n",
    "            if i % 2 == 0:\n",
    "                x0 = np.mean(x[i - N : i])\n",
    "                u0 = np.mean(u[i - N : i])\n",
    "            dx = a * dx + b * (x[i] - x[i - N]) / (u[i] - u[i - N])\n",
    "\n",
    "        t[i] = x0 + dx * (u[i] - u0)\n",
    "        # Keep a history\n",
    "        h_x0[i] = x0\n",
    "        h_u0[i] = u0\n",
    "        h_dx[i] = dx\n",
    "\n",
    "    # For plotting, set the beginning t values to be nice\n",
    "    t[1] = t[2] - d\n",
    "    t[0] = t[1] - d\n",
    "    \n",
    "    return t, h_x0, h_u0, h_dx"
   ]
  },
  {
   "cell_type": "code",
   "execution_count": null,
   "metadata": {
    "collapsed": true
   },
   "outputs": [],
   "source": [
    "def showChart(t, h_x0, h_u0, h_dx):\n",
    "    fig = matplotlib.pyplot.figure(figsize=(11, 6))\n",
    "\n",
    "    xx = y - y[0]\n",
    "\n",
    "    ax1 = fig.add_subplot(221)\n",
    "    h1 = ax1.plot(xx, 1.0e3 * (t - y), '-m')\n",
    "    ax1.grid()\n",
    "    ax1.text(y[-1] - y[0], 1.3, 'M = {}, N = {}'.format(M, N), ha='right')\n",
    "    matplotlib.pyplot.ylabel('Time Error (ms)')\n",
    "    matplotlib.pyplot.ylim([-3.0, 3.0])\n",
    "#     ax1b = ax1.twinx()\n",
    "#     h2 = ax1b.plot(xx, (u - h_u0) * 1.0e-6 / M, 'g')\n",
    "#     h2 = ax1b.plot(xx[0::2], (u - h_u0)[0::2] * 1.0e-6 * d * M, 'g')\n",
    "#     matplotlib.pyplot.ylim([0, 1.0e9])\n",
    "#     ax1b.legend(h1 + h2, ['Time', 'Reference'], loc=4)\n",
    "#     matplotlib.pyplot.title('Accuracy of Time & Reference')\n",
    "\n",
    "    ax2 = fig.add_subplot(222)\n",
    "    ax2.plot(xx, h_dx * tics_per_second, label='Estimate')\n",
    "    ax2.plot(xx[[0, -1]], np.array([1.0, 1.0]), '--', label='True dx / du')\n",
    "    ax2.grid()\n",
    "    ax2.legend()\n",
    "    matplotlib.pyplot.ylim([0.999, 1.001])\n",
    "    matplotlib.pyplot.title('Time History of dx / du')\n",
    "\n",
    "    ax3 = fig.add_subplot(223)\n",
    "    h31 = ax3.plot(xx, (h_u0 - u_orig) / tics_per_second)\n",
    "    h32 = ax3.plot(xx[[0, -1]], (u[[0, -1]] - u_orig) / tics_per_second, '--')\n",
    "    ax3.grid()\n",
    "    ax3.legend(h31 + h32, ['Estimate', 'True u0'])\n",
    "\n",
    "    ax4 = fig.add_subplot(224)\n",
    "    h41 = ax4.plot(xx, h_x0 - x_orig)\n",
    "    h42 = ax4.plot(xx[[0, -1]], xx[[0, -1]], '--')\n",
    "    ax4.grid()\n",
    "    ax4.legend(h41 + h42, ['Estimate', 'True x0'])\n",
    "\n",
    "    return fig"
   ]
  },
  {
   "cell_type": "code",
   "execution_count": null,
   "metadata": {},
   "outputs": [],
   "source": [
    "# Stride size of the running window\n",
    "M = 2000\n",
    "N = 2000\n",
    "\n",
    "# for M in [1000, 2000, 5000, 10000]:\n",
    "t, h_x0, h_u0, h_dx = sim(x, M, N)\n",
    "fig = showChart(t, h_x0, h_u0, h_dx)\n",
    "fig.savefig(os.environ['HOME'] + '/Desktop/m{0:02.0f}-n{1:02.0f}.png'.format(M / 1000, N / 1000))"
   ]
  },
  {
   "cell_type": "code",
   "execution_count": null,
   "metadata": {},
   "outputs": [],
   "source": [
    "O = int(3.5 / ((2 + 3) * 0.5 * d) * 2)\n",
    "L = 1000\n",
    "\n",
    "xx = y[O:O+L] - y[0]\n",
    "ts1 = 1.0e3 * (x[O:O+L] - y[O:O+L])\n",
    "ts2 = 1.0e3 * (t[O:O+L] - y[O:O+L])\n",
    "\n",
    "print('Original jitter =', np.std(np.diff(ts1)), ' ms')\n",
    "print('Smoothed jitter =', np.std(np.diff(ts2)), ' ms')\n",
    "\n",
    "fig = matplotlib.pyplot.figure(figsize=(11, 4))\n",
    "ax = fig.add_subplot(111)\n",
    "matplotlib.pyplot.plot(xx, ts1, '-', label='Raw Time')\n",
    "matplotlib.pyplot.plot(xx, ts2, '-', label='Predicted Time')\n",
    "matplotlib.pyplot.grid()\n",
    "matplotlib.pyplot.legend()\n",
    "matplotlib.pyplot.ylabel('Time Error (ms)')"
   ]
  },
  {
   "cell_type": "code",
   "execution_count": null,
   "metadata": {},
   "outputs": [],
   "source": [
    "matplotlib.pyplot.plot(np.diff(t)[-50:])\n",
    "matplotlib.pyplot.plot(np.diff(y)[-50:])\n",
    "matplotlib.pyplot.grid()"
   ]
  },
  {
   "cell_type": "code",
   "execution_count": null,
   "metadata": {
    "collapsed": true
   },
   "outputs": [],
   "source": []
  }
 ],
 "metadata": {
  "kernelspec": {
   "display_name": "Python 3",
   "language": "python",
   "name": "python3"
  },
  "language_info": {
   "codemirror_mode": {
    "name": "ipython",
    "version": 3
   },
   "file_extension": ".py",
   "mimetype": "text/x-python",
   "name": "python",
   "nbconvert_exporter": "python",
   "pygments_lexer": "ipython3",
   "version": "3.6.1"
  }
 },
 "nbformat": 4,
 "nbformat_minor": 2
}
