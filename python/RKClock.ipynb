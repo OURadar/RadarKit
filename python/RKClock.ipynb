{
 "cells": [
  {
   "cell_type": "code",
   "execution_count": null,
   "metadata": {},
   "outputs": [],
   "source": [
    "%matplotlib inline\n",
    "%pylab inline"
   ]
  },
  {
   "cell_type": "code",
   "execution_count": null,
   "metadata": {
    "collapsed": true
   },
   "outputs": [],
   "source": [
    "matplotlib.rcParams['font.family'] = 'serif'\n",
    "matplotlib.rcParams['font.serif'] = ['Arial']\n",
    "matplotlib.rcParams['font.sans-serif'] = ['System Font', 'Verdana', 'Arial']\n",
    "matplotlib.rcParams['figure.figsize'] = (7, 3)   # Change the size of plots\n",
    "matplotlib.rcParams['figure.dpi'] = 108"
   ]
  },
  {
   "cell_type": "code",
   "execution_count": null,
   "metadata": {
    "collapsed": true
   },
   "outputs": [],
   "source": [
    "import numpy as np\n",
    "import numpy.matlib"
   ]
  },
  {
   "cell_type": "code",
   "execution_count": null,
   "metadata": {
    "collapsed": true
   },
   "outputs": [],
   "source": [
    "# Time interval between readings\n",
    "d = 1.0 / 5000.0\n",
    "# Stride size of the running window\n",
    "N = 2000\n",
    "# Time-series data usually come in chunks\n",
    "chunk_size = 16\n",
    "# Have the time-series to be at least 5.0 seconds\n",
    "K = int(floor(max(10 * N, round(5.0 / d)) / chunk_size) * chunk_size)\n",
    "# A scaling constant of the clean reference\n",
    "tics_per_second = 1000000\n",
    "# Double time in seconds\n",
    "y = np.array([x for x in range(K)], dtype=np.float64) * d + 7000.0\n",
    "# Clean reference of tic count\n",
    "u = np.array([x for x in range(K)], dtype=np.float64) * 1000000\n",
    "\n",
    "# Add noise to x, on the orders of milliseconds\n",
    "# x = y + 10.0e-3 * (np.random.random(y.shape) - 0.5)\n",
    "noise = 10.0e-3 * (np.random.random(round(K / chunk_size, )) - 0.5)\n",
    "x = y + np.kron(noise, np.ones(chunk_size, ))"
   ]
  },
  {
   "cell_type": "code",
   "execution_count": null,
   "metadata": {
    "collapsed": true
   },
   "outputs": [],
   "source": [
    "h_x0 = np.ones(x.shape) * np.nan\n",
    "h_u0 = np.ones(x.shape) * np.nan\n",
    "h_dx = np.ones(x.shape) * np.nan\n",
    "t = np.ones(x.shape) * np.nan\n",
    "b = 1.0 / N\n",
    "a = 1.0 - b\n",
    "\n",
    "# Block size\n",
    "M = 16\n",
    "\n",
    "for i in range(2, len(x)):\n",
    "    if i < N:\n",
    "        dx_du = (x[i] - x[0]) / (u[i] - u[0])\n",
    "    else:\n",
    "        dx_du = (x[i] - x[i - N]) / (u[i] - u[i - N])\n",
    "    if i <= M:\n",
    "        x0 = x[i]\n",
    "        u0 = (u[i] - u[0]) * (0.44 * N / i)        # Rough estimate from the first i samples\n",
    "        dx = a * (x[i - 1] - x[0]) / (u[i - 1] - u[0]) + b * dx_du\n",
    "    else:\n",
    "        x0 = a * x0 + b * x[i]\n",
    "        u0 = a * u0 + b * u[i]\n",
    "        dx = a * dx + b * dx_du\n",
    "    t[i] = x0 + dx * (u[i] - u0)\n",
    "    # Keep a history\n",
    "    h_dx[i] = dx\n",
    "    h_x0[i] = x0\n",
    "    h_u0[i] = u0\n",
    "    \n",
    "# For plotting, set the beginning t values to be nice\n",
    "t[1] = t[2] - d\n",
    "t[0] = t[1] - d"
   ]
  },
  {
   "cell_type": "code",
   "execution_count": null,
   "metadata": {},
   "outputs": [],
   "source": [
    "fig = matplotlib.pyplot.figure(figsize=(11, 3))\n",
    "h1 = matplotlib.pyplot.plot(y[1:] - y[0], np.diff(x) - d, label='Noisy Time')\n",
    "h2 = matplotlib.pyplot.plot(y[2:] - y[0], np.diff(t)[1:] - d, label='Pred. Time')\n",
    "matplotlib.pyplot.grid()\n",
    "matplotlib.pyplot.legend()\n",
    "matplotlib.pyplot.title('Time History of Noisy Arrival Time and Predicted Time')\n",
    "print('Original jitter =', np.std(np.diff(x[-N:])) * 1.0e3, ' ms')\n",
    "print('Smoothed jitter =', np.std(np.diff(t[-N:])) * 1.0e3, ' ms')"
   ]
  },
  {
   "cell_type": "code",
   "execution_count": null,
   "metadata": {},
   "outputs": [],
   "source": [
    "fig = matplotlib.pyplot.figure(figsize=(11, 6))\n",
    "\n",
    "ax1 = fig.add_subplot(221)\n",
    "h1 = ax1.plot(y - y[0], t - y, '-r')\n",
    "ax1.grid()\n",
    "matplotlib.pyplot.ylim([-1.0e-2, 1.0e-2])\n",
    "ax1b = ax1.twinx()\n",
    "h2 = ax1b.plot(y - y[0], u - h_u0)\n",
    "ax1b.legend(h1 + h2, ['Time', 'Reference'], loc=4)\n",
    "matplotlib.pyplot.title('Accuracy of Predicted Time & Reference')\n",
    "\n",
    "ax2 = fig.add_subplot(222)\n",
    "ax2.plot(y - y[0], h_dx, label='Estimate')\n",
    "ax2.plot([0, len(x) * d], np.array([1.0, 1.0]) * 1.0e-6 * d, '--', label='True dx / du')\n",
    "ax2.grid()\n",
    "ax2.legend()\n",
    "matplotlib.pyplot.title('Time History of dx / du')\n",
    "\n",
    "ax3 = fig.add_subplot(223)\n",
    "h31 = ax3.plot(y - y[0], h_u0 + tics_per_second * N)\n",
    "h32 = ax3.plot([0, K * d], [u[0], u[-1]], '--')\n",
    "ax3.grid()\n",
    "ax3.legend(h31 + h32, ['Estimate', 'True u0'])\n",
    "\n",
    "ax4 = fig.add_subplot(224)\n",
    "h41 = ax4.plot(y - y[0], h_x0 - 7000.0 + d * N)\n",
    "h42 = ax4.plot([0, K * d], [0, K * d], '--')\n",
    "ax4.grid()\n",
    "ax4.legend(h41 + h42, ['Estimate', 'True x0'])"
   ]
  },
  {
   "cell_type": "code",
   "execution_count": null,
   "metadata": {
    "collapsed": true
   },
   "outputs": [],
   "source": []
  }
 ],
 "metadata": {
  "kernelspec": {
   "display_name": "Python 3",
   "language": "python",
   "name": "python3"
  },
  "language_info": {
   "codemirror_mode": {
    "name": "ipython",
    "version": 3
   },
   "file_extension": ".py",
   "mimetype": "text/x-python",
   "name": "python",
   "nbconvert_exporter": "python",
   "pygments_lexer": "ipython3",
   "version": "3.6.2"
  }
 },
 "nbformat": 4,
 "nbformat_minor": 2
}
