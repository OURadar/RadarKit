{
 "cells": [
  {
   "cell_type": "code",
   "execution_count": null,
   "metadata": {},
   "outputs": [],
   "source": [
    "%matplotlib inline\n",
    "import matplotlib\n",
    "import numpy as np\n",
    "matplotlib.rcParams['font.family'] = 'serif'\n",
    "matplotlib.rcParams['font.serif'] = ['Arial']\n",
    "matplotlib.rcParams['font.sans-serif'] = ['System Font', 'Verdana', 'Arial']\n",
    "matplotlib.rcParams['figure.dpi'] = 108"
   ]
  },
  {
   "cell_type": "code",
   "execution_count": null,
   "metadata": {},
   "outputs": [],
   "source": [
    "def spec(x, xa, A, mu, sig, N):\n",
    "    y = (A * np.exp(-(x - mu) ** 2 / (2 * sig ** 2))\n",
    "    + A * np.exp(-(x - mu + 2 * xa) ** 2 / (2 * sig ** 2))\n",
    "    + A * np.exp(-(x - mu - 2 * xa) ** 2 / (2 * sig ** 2))\n",
    "    + 0.5 * N)\n",
    "    return y"
   ]
  },
  {
   "cell_type": "code",
   "execution_count": null,
   "metadata": {},
   "outputs": [],
   "source": [
    "# Some basic parameters\n",
    "N = 80\n",
    "G = 50\n",
    "va = 15\n",
    "x = np.arange(0, N, dtype=np.float32) / N * 2 * va - va\n",
    "\n",
    "A = 0.5\n",
    "mu = 11\n",
    "sig = 5\n",
    "An = 0.1 * A"
   ]
  },
  {
   "cell_type": "code",
   "execution_count": null,
   "metadata": {},
   "outputs": [],
   "source": [
    "yy = np.zeros((G, N))\n",
    "for k in np.arange(yy.shape[0]):\n",
    "    mu = 4.0 * np.cos(0.13 * k + 0.5 * np.pi) + 3.0;\n",
    "    sig = 0.5 + 0.08 * k;\n",
    "    y = spec(x, va, A, mu, sig, An)\n",
    "    y = (0.5 * np.random.rand(N) + 0.75) * y\n",
    "    n = An * (np.random.rand(N) - 0.5)\n",
    "    y = y + n\n",
    "    yy[k, :] = y"
   ]
  },
  {
   "cell_type": "markdown",
   "metadata": {},
   "source": [
    "# Plot"
   ]
  },
  {
   "cell_type": "code",
   "execution_count": null,
   "metadata": {},
   "outputs": [],
   "source": [
    "fig = matplotlib.pyplot.figure(figsize=(8, 4), dpi=120)\n",
    "# fig.suptitle('Range-Doppler Spectra', fontweight='bold')\n",
    "matplotlib.pyplot.imshow(yy, extent=(-va, va, 0, G - 1), aspect=0.5 * 1.0 * G / N, cmap='magma')\n",
    "matplotlib.pyplot.xlabel('Velocity (m/s)')\n",
    "matplotlib.pyplot.ylabel('Gate Index')\n",
    "matplotlib.pyplot.title('Range-Doppler Spectra', fontweight='bold')"
   ]
  },
  {
   "cell_type": "code",
   "execution_count": null,
   "metadata": {},
   "outputs": [],
   "source": []
  }
 ],
 "metadata": {
  "kernelspec": {
   "display_name": "Python 3",
   "language": "python",
   "name": "python3"
  },
  "language_info": {
   "codemirror_mode": {
    "name": "ipython",
    "version": 2
   },
   "file_extension": ".py",
   "mimetype": "text/x-python",
   "name": "python",
   "nbconvert_exporter": "python",
   "pygments_lexer": "ipython2",
   "version": "2.7.15"
  }
 },
 "nbformat": 4,
 "nbformat_minor": 2
}
