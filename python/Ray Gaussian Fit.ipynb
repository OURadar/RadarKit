{
 "cells": [
  {
   "cell_type": "code",
   "execution_count": null,
   "metadata": {},
   "outputs": [],
   "source": [
    "%matplotlib inline\n",
    "import matplotlib\n",
    "import numpy as np\n",
    "matplotlib.rcParams['font.family'] = 'serif'\n",
    "matplotlib.rcParams['font.serif'] = ['Arial']\n",
    "matplotlib.rcParams['font.sans-serif'] = ['System Font', 'Verdana', 'Arial']\n",
    "matplotlib.rcParams['figure.dpi'] = 108"
   ]
  },
  {
   "cell_type": "code",
   "execution_count": null,
   "metadata": {},
   "outputs": [],
   "source": [
    "def spec(x, xa, A, mu, sig, N):\n",
    "    y = (A * np.exp(-(x - mu) ** 2 / (2 * sig ** 2))\n",
    "    + A * np.exp(-(x - mu + 2 * xa) ** 2 / (2 * sig ** 2))\n",
    "    + A * np.exp(-(x - mu - 2 * xa) ** 2 / (2 * sig ** 2))\n",
    "    + 0.5 * N)\n",
    "    return y"
   ]
  },
  {
   "cell_type": "code",
   "execution_count": null,
   "metadata": {},
   "outputs": [],
   "source": [
    "# Some basic parameters\n",
    "N = 60\n",
    "va = 15\n",
    "x = np.arange(0, N, dtype=np.float32) / N * 2 * va - va\n",
    "\n",
    "A = 0.5\n",
    "mu = 11\n",
    "sig = 5\n",
    "An = 0.1 * A\n",
    "\n",
    "# Generate a prestine spectrum\n",
    "y = spec(x, va, A, mu, sig, An)\n",
    "\n",
    "# Store a copy of the original\n",
    "yo = y\n",
    "\n",
    "# Pertube the amplitudes\n",
    "y = (np.random.rand(N) + 0.5) * y\n",
    "\n",
    "# Additive noise\n",
    "n = An * (np.random.rand(N) - 0.5)\n",
    "\n",
    "# Add noise\n",
    "y = y + n\n",
    "\n",
    "# Some threshold to select what data samples to use\n",
    "th = 0.5 * np.sqrt(np.mean(y ** 2))\n",
    "\n",
    "# Mask of good samples\n",
    "mask = y > th"
   ]
  },
  {
   "cell_type": "code",
   "execution_count": null,
   "metadata": {},
   "outputs": [],
   "source": [
    "yy = np.zeros((40, N))\n",
    "for k, mu in enumerate(np.arange(-10, 10, 0.5)):\n",
    "    y = spec(x, va, A, mu, sig, An)\n",
    "    y = (np.random.rand(N) + 0.5) * y\n",
    "    n = An * (np.random.rand(N) - 0.5)\n",
    "    y = y + n\n",
    "    yy[k, :] = y"
   ]
  },
  {
   "cell_type": "code",
   "execution_count": null,
   "metadata": {},
   "outputs": [],
   "source": [
    "# matplotlib.pyplot.imshow(x, np.arange(yy.shape[0]), yy)\n",
    "matplotlib.pyplot.imshow(yy)"
   ]
  },
  {
   "cell_type": "markdown",
   "metadata": {},
   "source": [
    "# Plot"
   ]
  },
  {
   "cell_type": "code",
   "execution_count": null,
   "metadata": {},
   "outputs": [],
   "source": [
    "fig = matplotlib.pyplot.figure(figsize=(8,4))\n",
    "fig.suptitle('Gaussian Spectrum', fontweight='bold')\n",
    "matplotlib.pyplot.plot(x, yy[0, :], color=[0.7, 0.2, 0.8])\n",
    "matplotlib.pyplot.plot(x, yy[2, :], color=[0.7, 0.2, 0.8])\n",
    "matplotlib.pyplot.grid()\n",
    "matplotlib.pyplot.ylim((0.0, 2.0 * A))\n",
    "matplotlib.pyplot.xlabel('Velocity (m/s)')\n",
    "matplotlib.pyplot.ylabel('Amplitude')"
   ]
  },
  {
   "cell_type": "code",
   "execution_count": null,
   "metadata": {},
   "outputs": [],
   "source": []
  }
 ],
 "metadata": {
  "kernelspec": {
   "display_name": "Python 3",
   "language": "python",
   "name": "python3"
  },
  "language_info": {
   "codemirror_mode": {
    "name": "ipython",
    "version": 2
   },
   "file_extension": ".py",
   "mimetype": "text/x-python",
   "name": "python",
   "nbconvert_exporter": "python",
   "pygments_lexer": "ipython2",
   "version": "2.7.15"
  }
 },
 "nbformat": 4,
 "nbformat_minor": 2
}
