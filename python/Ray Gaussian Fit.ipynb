{
 "cells": [
  {
   "cell_type": "code",
   "execution_count": null,
   "metadata": {},
   "outputs": [],
   "source": [
    "%matplotlib inline\n",
    "from __future__ import print_function\n",
    "import matplotlib\n",
    "import numpy as np\n",
    "matplotlib.rcParams['font.family'] = 'serif'\n",
    "matplotlib.rcParams['font.serif'] = ['Arial']\n",
    "matplotlib.rcParams['font.sans-serif'] = ['System Font', 'Verdana', 'Arial']\n",
    "matplotlib.rcParams['figure.dpi'] = 108"
   ]
  },
  {
   "cell_type": "code",
   "execution_count": null,
   "metadata": {},
   "outputs": [],
   "source": [
    "def spec(x, xa, A, mu, sig, N):\n",
    "    y = (A * np.exp(-(x - mu) ** 2 / (2 * sig ** 2))\n",
    "    + A * np.exp(-(x - mu + 2 * xa) ** 2 / (2 * sig ** 2))\n",
    "    + A * np.exp(-(x - mu - 2 * xa) ** 2 / (2 * sig ** 2))\n",
    "    + 0.5 * N)\n",
    "    return y"
   ]
  },
  {
   "cell_type": "code",
   "execution_count": null,
   "metadata": {},
   "outputs": [],
   "source": [
    "# Some basic parameters\n",
    "N = 80\n",
    "G = 50\n",
    "va = 15\n",
    "x = np.arange(0, N, dtype=np.float32) / N * 2 * va - va\n",
    "\n",
    "A = 0.5\n",
    "mu = 11\n",
    "sig = 5\n",
    "An = 0.1 * A"
   ]
  },
  {
   "cell_type": "code",
   "execution_count": null,
   "metadata": {},
   "outputs": [],
   "source": [
    "yy = np.zeros((G, N))\n",
    "vr = np.zeros(G)\n",
    "wd = np.zeros(G)\n",
    "for k in np.arange(yy.shape[0]):\n",
    "    mu = 4.0 * np.cos(0.13 * k + 0.5 * np.pi) + 3.0;\n",
    "    sig = 0.5 + 0.08 * k;\n",
    "    y = spec(x, va, A, mu, sig, An)\n",
    "    y = (0.5 * np.random.rand(N) + 0.75) * y\n",
    "    n = An * (np.random.rand(N) - 0.5)\n",
    "    y = y + n\n",
    "    yy[k, :] = y\n",
    "    vr[k] = mu\n",
    "    wd[k] = sig"
   ]
  },
  {
   "cell_type": "markdown",
   "metadata": {},
   "source": [
    "# Plot"
   ]
  },
  {
   "cell_type": "code",
   "execution_count": null,
   "metadata": {},
   "outputs": [],
   "source": [
    "bgColor = (0.89, 0.87, 0.83)\n",
    "\n",
    "fig = matplotlib.pyplot.figure(figsize=(8, 4), dpi=120)\n",
    "# fig.suptitle('Range-Doppler Spectra', fontweight='bold')\n",
    "w = 6\n",
    "h = 6.5\n",
    "rect = [0.14, 0.1, 0.8 * h / w, 0.8]\n",
    "rect = [round(x * 72.0) / 72.0 + 0.5 / 72.0 for x in rect]\n",
    "ax = matplotlib.pyplot.axes(rect, facecolor=bgColor)\n",
    "\n",
    "im = matplotlib.pyplot.imshow(yy, extent=(-va, va, -0.5, G - 0.5), aspect=0.5 * 1.0 * G / N, cmap='magma', origin='lower', axes=ax)\n",
    "matplotlib.pyplot.errorbar(vr, np.arange(G), xerr=0.5 * wd, color=[0, 1, 0.6])\n",
    "matplotlib.pyplot.xlabel('Velocity (m/s)')\n",
    "matplotlib.pyplot.ylabel('Gate Index')\n",
    "matplotlib.pyplot.title('Range-Doppler Spectra', fontweight='bold')\n",
    "\n",
    "cax = fig.add_axes((rect[0] + rect[2] + 0.0001, rect[1], 0.03, rect[3]))\n",
    "matplotlib.pyplot.colorbar(ax=ax, cax=cax, orientation='vertical')"
   ]
  },
  {
   "cell_type": "code",
   "execution_count": null,
   "metadata": {},
   "outputs": [],
   "source": [
    "def showValues(values, indent='\\t'):\n",
    "    for k, v in enumerate(values):\n",
    "        if k == 0:\n",
    "            print('{0}{1:.4f}'.format(indent, v), end='')\n",
    "        else:\n",
    "            print(', {0:.4f}'.format(v), end='')\n",
    "    return"
   ]
  },
  {
   "cell_type": "code",
   "execution_count": null,
   "metadata": {},
   "outputs": [],
   "source": [
    "print('\\tconst float spec[][{0}] = {{'.format(N))\n",
    "for g, y in enumerate(yy):\n",
    "    showValues(y, indent='\\t\\t{')\n",
    "    if g < G - 1:\n",
    "        print('},')\n",
    "print('\\n};')"
   ]
  },
  {
   "cell_type": "code",
   "execution_count": null,
   "metadata": {},
   "outputs": [],
   "source": [
    "print('\\tconst float vr[] = {')\n",
    "showValues(vr, indent='\\t\\t');\n",
    "print('\\n\\t};')\n",
    "print('\\tconst float wd[] = {')\n",
    "showValues(vr, indent='\\t\\t');\n",
    "print('\\n\\t};')"
   ]
  },
  {
   "cell_type": "code",
   "execution_count": null,
   "metadata": {},
   "outputs": [],
   "source": []
  }
 ],
 "metadata": {
  "kernelspec": {
   "display_name": "Python 3",
   "language": "python",
   "name": "python3"
  },
  "language_info": {
   "codemirror_mode": {
    "name": "ipython",
    "version": 3
   },
   "file_extension": ".py",
   "mimetype": "text/x-python",
   "name": "python",
   "nbconvert_exporter": "python",
   "pygments_lexer": "ipython3",
   "version": "3.7.1"
  }
 },
 "nbformat": 4,
 "nbformat_minor": 2
}
